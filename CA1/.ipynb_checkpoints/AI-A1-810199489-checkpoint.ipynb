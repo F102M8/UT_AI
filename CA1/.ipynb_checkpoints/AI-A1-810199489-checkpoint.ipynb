{
 "cells": [
  {
   "cell_type": "code",
   "execution_count": null,
   "id": "db062f08-1060-4e3b-9494-9c36a9a8a237",
   "metadata": {},
   "outputs": [],
   "source": [
    "# import libraries:\n",
    "import pandas as pd\n",
    "import numpy as np\n",
    "import random"
   ]
  },
  {
   "cell_type": "code",
   "execution_count": null,
   "id": "89d4dd63-86d5-46f3-9a6a-0bd523c4da77",
   "metadata": {},
   "outputs": [],
   "source": [
    "# get inputs:\n",
    "min_v = int(input(\"Enter the minimum value (min_v) you want to achieve: \"))\n",
    "max_w = int(input(\"Enter the maximum weight (max_w) allowed: \"))\n",
    "\n",
    "min_n = int(input(\"Enter the minimum number of snack types (min_n): \"))\n",
    "max_n = int(input(\"Enter the maximum number of snack types (max_n): \"))\n",
    "population_size = int(input(\"Enter population size: \"))"
   ]
  },
  {
   "cell_type": "code",
   "execution_count": null,
   "id": "6040ee24-6a1f-4430-b4fa-71384d3291ba",
   "metadata": {},
   "outputs": [],
   "source": [
    "# read CSV file:\n",
    "file_path = 'snacks.csv'\n",
    "df = pd.read_csv(file_path)\n"
   ]
  },
  {
   "cell_type": "code",
   "execution_count": null,
   "id": "8c22aa7a-33c2-4367-af76-4dde0e3a2165",
   "metadata": {},
   "outputs": [],
   "source": [
    "print(df)"
   ]
  },
  {
   "cell_type": "code",
   "execution_count": null,
   "id": "116db1e8-5b62-4d5c-a6c4-fa5a091f474f",
   "metadata": {},
   "outputs": [],
   "source": [
    "#Part One: Defining Basic Concepts\n",
    "\n",
    "#Gene:\n",
    "class Gene:\n",
    "    def __init__(self, name, max_weight, value_per_weight):\n",
    "        self.name = name\n",
    "        self.weight = 0\n",
    "        self.value_per_weight = value_per_weight\n",
    "        self.max_weight = max_weight\n",
    "    def __repr__(self):\n",
    "        return f\"Gene(name={self.name}, weight={self.weight}, max_weight={self.max_weight}, value_per_weight={self.value_per_weight})\\n\"\n",
    "\n",
    "    def __str__(self):\n",
    "        return f\"{self.name}: Weight={self.weight}, Value per Weight={self.value_per_weight}\"\n",
    "\n",
    "# Genes pool:\n",
    "genes_pool = df.copy()\n",
    "genes_pool.rename(columns={'Snack': 'Name'}, inplace=True)\n",
    "genes_pool.rename(columns={'Available Weight': 'Maximum Weight'}, inplace=True)\n",
    "genes_pool['Value per Weight'] = genes_pool['Value'] / genes_pool['Maximum Weight']\n",
    "genes_pool = genes_pool[['Name', 'Maximum Weight', 'Value per Weight']]\n",
    "\n",
    "gene_objects = [Gene(row['Name'], row['Maximum Weight'], row['Value per Weight']) for index, row in genes_pool.iterrows()]\n",
    "\n",
    "#Chromosome:\n",
    "class Chromosome:\n",
    "    def __init__(self, genes_pool, x):\n",
    "        self.genes_temp = random.sample(genes_pool, x)\n",
    "        self.genes = []\n",
    "        for g in self.genes_temp:\n",
    "            self.genes.append(Gene(g.name, g.max_weight, g.value_per_weight))\n",
    "        for gene in self.genes:\n",
    "            gene.weight = random.randint(0, gene.max_weight)\n",
    "            print(gene.weight)\n",
    "            print(self.genes)\n",
    "        \n",
    "        \n",
    "        self.total_weight = sum(gene.weight for gene in self.genes)\n",
    "        print(self.total_weight)\n",
    "        print(\"---\")\n",
    "        self.total_value = sum(gene.weight * gene.value_per_weight for gene in self.genes)\n",
    "        self.variety_of_snacks = len(self.genes)\n",
    "        self.fitness = 0  \n",
    "        \n",
    "    def __repr__(self):\n",
    "        return f\"\\nChromosome(genes=\\n{self.genes}, fitness={self.fitness}) \\nTotal Weight: {self.total_weight}\\nTotal Value: { self.total_value}\\nRange: {self.variety_of_snacks}\\n\"\n",
    "        \n",
    "    def __str__(self):\n",
    "        genes_str = '\\n'.join(str(gene) for gene in self.genes)\n",
    "        return f\"\\nChromosome Details:\\nGenes:\\n{genes_str}\\nFitness: {self.fitness} \\nTotal Weight: {self.total_weight}\\nTotal Value: { self.total_value}\\nRange: {self.variety_of_snacks}\\n\"\n",
    "        \n",
    "\n"
   ]
  },
  {
   "cell_type": "code",
   "execution_count": null,
   "id": "6f7d88fb-141f-49dd-859f-05bb7b79bfea",
   "metadata": {},
   "outputs": [],
   "source": [
    "print(genes_pool)"
   ]
  },
  {
   "cell_type": "code",
   "execution_count": null,
   "id": "0bd82c1a-9815-46a0-baac-841044e731ac",
   "metadata": {},
   "outputs": [],
   "source": [
    "print(gene_objects)"
   ]
  },
  {
   "cell_type": "code",
   "execution_count": null,
   "id": "93b2da47-058d-4c0e-8a90-2119142f0f7c",
   "metadata": {},
   "outputs": [],
   "source": [
    "#Part Two: Primary population production\n",
    "#initial_population = [Chromosome(gene_objects, random.randint(min_n, max_n)) for _ in range(2)]\n",
    "initial_population = []\n",
    "for _ in range(population_size):\n",
    "    c = Chromosome(gene_objects, random.randint(min_n, max_n))\n",
    "    initial_population.append(c)\n",
    "    c = None\n"
   ]
  },
  {
   "cell_type": "code",
   "execution_count": null,
   "id": "399225f6-803e-4996-b380-89507c5bf6ff",
   "metadata": {},
   "outputs": [],
   "source": [
    "initial_population"
   ]
  },
  {
   "cell_type": "code",
   "execution_count": null,
   "id": "38a19967-3216-430d-8fb6-7e4f23b1c674",
   "metadata": {},
   "outputs": [],
   "source": [
    "#Part three: Implementation and specification of compatibility criterion function\n",
    "\n",
    "\n",
    "def calculate_fitness(chromosome):\n",
    "    fitness = chromosome.total_value\n",
    "    penalty_weight =max_w - chromosome.total_weight\n",
    "    penalty_value = chromosome.total_value - min_v\n",
    "    #penalty_varity = min(chromosome.variety_of_snacks - max_n , min_n - chromosome.variety_of_snacks)\n",
    "    penalties = 0\n",
    "    if penalty_weight < 0:\n",
    "        penalties = penalty_weight\n",
    "    if penalty_value < 0:\n",
    "        penalties = penalties + penalty_value\n",
    "    if penalties < 0 :\n",
    "        fitness = penalties\n",
    "    return fitness\n",
    "    \n"
   ]
  },
  {
   "cell_type": "code",
   "execution_count": null,
   "id": "52e42a7f-f374-4cf0-839c-922975edbdc2",
   "metadata": {},
   "outputs": [],
   "source": [
    "#Update Chromosomes Fitness'\n",
    "\n",
    "for Chromosome in initial_population:\n",
    "    Chromosome.fitness = calculate_fitness(Chromosome)"
   ]
  },
  {
   "cell_type": "code",
   "execution_count": null,
   "id": "bf0133b2-2911-4c50-ab06-d86bc48901c2",
   "metadata": {},
   "outputs": [],
   "source": [
    "initial_population"
   ]
  },
  {
   "cell_type": "code",
   "execution_count": null,
   "id": "821bb7ef-06c8-404c-94a3-13c5609bffd9",
   "metadata": {},
   "outputs": [],
   "source": [
    "def find_winner(population):\n",
    "    max_fitness = float('-inf')\n",
    "    winner = population[0];\n",
    "    for Chromosome in population:\n",
    "        if (Chromosome.fitness > max_fitness):\n",
    "            max_fitness = Chromosome.fitness\n",
    "            winner = Chromosome\n",
    "    return winner"
   ]
  },
  {
   "cell_type": "code",
   "execution_count": null,
   "id": "9cf3aa90-f427-44be-830a-952bfdf9f483",
   "metadata": {},
   "outputs": [],
   "source": [
    "def check_for_answer(population):\n",
    "    winner = find_winner(population)\n",
    "    if winner.fitness >= min_v:\n",
    "        #print(\"answer: \")\n",
    "        #print(winner)\n",
    "        #return True\n",
    "        return winner\n",
    "    #print(\"not found!\")\n",
    "    #return False\n",
    "    return None"
   ]
  },
  {
   "cell_type": "code",
   "execution_count": null,
   "id": "485a8397-f67e-4bfd-90d9-9aa80071d93e",
   "metadata": {},
   "outputs": [],
   "source": [
    "#Part four: Generating a new generation\n",
    "\n",
    "#Crossover:\n",
    "def crossover(population):\n",
    "    new_population = population\n",
    "    return new_population\n",
    "\n",
    "#Mutation:\n",
    "def mutation(population):\n",
    "    new_population = population\n",
    "    return new_population"
   ]
  },
  {
   "cell_type": "code",
   "execution_count": null,
   "id": "60fe8ea6-51cd-4cf0-919e-a1713080d50f",
   "metadata": {},
   "outputs": [],
   "source": [
    "population = initial_population\n",
    "winner = check_for_answer(initial_population)\n",
    "counter = 0\n",
    "while check_for_answer(population) == False:\n",
    "    new_population = crossover(population)\n",
    "    new_population = mutation(new_population)\n",
    "    population = new_population\n",
    "    winner = check_for_answer(population)\n",
    "    counter = counter + 1\n",
    "    "
   ]
  },
  {
   "cell_type": "code",
   "execution_count": null,
   "id": "4efdf276-bd77-4d43-b53a-df6382823f70",
   "metadata": {},
   "outputs": [],
   "source": [
    "def print_winner(winner):\n",
    "    for Gene in winner.genes:\n",
    "        print(f\"{Gene.name}: {Gene.weight}\")\n",
    "    print(f\"Total Weight: {winner.total_weight}\")\n",
    "    print(f\"Total Value: {winner.total_value}\")"
   ]
  },
  {
   "cell_type": "code",
   "execution_count": null,
   "id": "e1e1f663-56bf-42a7-b063-7952352b7de3",
   "metadata": {},
   "outputs": [],
   "source": [
    "print_winner(winner)"
   ]
  },
  {
   "cell_type": "code",
   "execution_count": null,
   "id": "fee85b49-e95a-40d5-bf40-0c8b3ee49bf7",
   "metadata": {},
   "outputs": [],
   "source": [
    "winner\n"
   ]
  },
  {
   "cell_type": "code",
   "execution_count": null,
   "id": "becfbc43-671f-4896-a424-40176da45cb4",
   "metadata": {},
   "outputs": [],
   "source": []
  }
 ],
 "metadata": {
  "kernelspec": {
   "display_name": "Python 3 (ipykernel)",
   "language": "python",
   "name": "python3"
  },
  "language_info": {
   "codemirror_mode": {
    "name": "ipython",
    "version": 3
   },
   "file_extension": ".py",
   "mimetype": "text/x-python",
   "name": "python",
   "nbconvert_exporter": "python",
   "pygments_lexer": "ipython3",
   "version": "3.12.2"
  }
 },
 "nbformat": 4,
 "nbformat_minor": 5
}
