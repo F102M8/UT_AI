{
 "cells": [
  {
   "cell_type": "markdown",
   "id": "f5a92023-0706-48fa-aa1b-737e1b73a1ae",
   "metadata": {},
   "source": [
    "Optimizing the Knapsack: \n",
    " A Genetic Algorithm Approach"
   ]
  },
  {
   "cell_type": "markdown",
   "id": "826639da-0b15-4fe1-ba49-64bdfd55d4b8",
   "metadata": {},
   "source": [
    "# Section Zero: Overview of Inputs, Libraries, and Necessary Data"
   ]
  },
  {
   "cell_type": "markdown",
   "id": "f0ac5ce6-045d-4644-b225-ffcd1aba1bdb",
   "metadata": {
    "jp-MarkdownHeadingCollapsed": true
   },
   "source": [
    "## Import libraries:"
   ]
  },
  {
   "cell_type": "code",
   "execution_count": null,
   "id": "db062f08-1060-4e3b-9494-9c36a9a8a237",
   "metadata": {},
   "outputs": [],
   "source": [
    "import pandas as pd\n",
    "import numpy as np\n",
    "import random as random\n",
    "import matplotlib.pyplot as plt"
   ]
  },
  {
   "cell_type": "markdown",
   "id": "7b3d0998-8ef9-4ab3-87f8-8a56c4f10d37",
   "metadata": {},
   "source": [
    "## Get inputs:"
   ]
  },
  {
   "cell_type": "code",
   "execution_count": null,
   "id": "54808348-0feb-4766-8831-49cc5badae38",
   "metadata": {},
   "outputs": [],
   "source": [
    "min_v = float(input(\"Enter the minimum value (min_v) you want to achieve: \"))\n",
    "max_w = float(input(\"Enter the maximum weight (max_w) allowed: \"))\n",
    "\n",
    "min_n = int(input(\"Enter the minimum number of snack types (min_n): \"))\n",
    "max_n = int(input(\"Enter the maximum number of snack types (max_n): \"))"
   ]
  },
  {
   "cell_type": "code",
   "execution_count": null,
   "id": "2f3a6c0f-d305-4420-bfaf-84862fec0fa9",
   "metadata": {},
   "outputs": [],
   "source": [
    "population_size = 200 #if it shouldn't be considered as an input!"
   ]
  },
  {
   "cell_type": "code",
   "execution_count": null,
   "id": "8324746b-71b4-452c-ad63-b851b305aee0",
   "metadata": {},
   "outputs": [],
   "source": [
    "population_size = int(input(\"Enter population size: \"))"
   ]
  },
  {
   "cell_type": "code",
   "execution_count": null,
   "id": "299230a7-bff4-4d24-b295-f67ef6f8e44a",
   "metadata": {},
   "outputs": [],
   "source": [
    "max_run = 1000 #if it shouldn't be considered as an input!"
   ]
  },
  {
   "cell_type": "code",
   "execution_count": null,
   "id": "c7c1030c-348b-4309-9e43-63f2e02f138d",
   "metadata": {},
   "outputs": [],
   "source": [
    "max_run = int(input())"
   ]
  },
  {
   "cell_type": "code",
   "execution_count": null,
   "id": "c2965f60-8a2a-4635-a07b-a7cccd4475a5",
   "metadata": {},
   "outputs": [],
   "source": [
    "print(f\"min value: {min_v},\\nmax weight: {max_w},\\nrange: {min_n}-{max_n},\\npopulation size: {population_size},\\nmax run: {max_run}\")"
   ]
  },
  {
   "cell_type": "markdown",
   "id": "d82c16c9-5e63-4746-8bbd-927d082cb74b",
   "metadata": {},
   "source": [
    "## read CSV file and save to Data Frame:"
   ]
  },
  {
   "cell_type": "code",
   "execution_count": null,
   "id": "6040ee24-6a1f-4430-b4fa-71384d3291ba",
   "metadata": {},
   "outputs": [],
   "source": [
    "file_path = 'snacks.csv'\n",
    "df = pd.read_csv(file_path)"
   ]
  },
  {
   "cell_type": "code",
   "execution_count": null,
   "id": "8c22aa7a-33c2-4367-af76-4dde0e3a2165",
   "metadata": {},
   "outputs": [],
   "source": [
    "print(df)"
   ]
  },
  {
   "cell_type": "markdown",
   "id": "5ceecdba-8dea-4150-b310-fecc1133dd91",
   "metadata": {},
   "source": [
    "# Part One: Defining Basic Concepts"
   ]
  },
  {
   "cell_type": "markdown",
   "id": "376878ef-eba3-46e1-8188-693a2ec167b4",
   "metadata": {},
   "source": [
    "## Gene:"
   ]
  },
  {
   "cell_type": "code",
   "execution_count": null,
   "id": "e42a2d83-77b8-4c96-ba2e-6bd70c41f34d",
   "metadata": {},
   "outputs": [],
   "source": [
    "class Gene:\n",
    "    def __init__(self, name, max_weight, value_per_weight, weight = 0):\n",
    "        self.name = name\n",
    "        self.weight = weight\n",
    "        self.max_weight = max_weight\n",
    "        self.value_per_weight = value_per_weight\n",
    "          \n",
    "    def __repr__(self):\n",
    "        return f\"Gene(name={self.name}, weight={self.weight}, max_weight={self.max_weight}, value_per_weight={self.value_per_weight}\\n)\"\n",
    "\n",
    "    def __str__(self):\n",
    "        return f\"{self.name}: Weight={self.weight}, Value per Weight={self.value_per_weight}\"\n"
   ]
  },
  {
   "cell_type": "markdown",
   "id": "1ab73bd3-0b40-4ddb-ada2-cf55ac14dfcc",
   "metadata": {},
   "source": [
    "## Chromosome:"
   ]
  },
  {
   "cell_type": "code",
   "execution_count": null,
   "id": "116db1e8-5b62-4d5c-a6c4-fa5a091f474f",
   "metadata": {},
   "outputs": [],
   "source": [
    "class Chromosome:\n",
    "    def __init__(self, geness, new_born = False):\n",
    "        self.genes = []\n",
    "        for g in geness:\n",
    "            self.genes.append(Gene(g.name, g.max_weight, g.value_per_weight, g.weight))\n",
    "        if (new_born == True):\n",
    "            for gene in self.genes:\n",
    "                while gene.weight == 0:\n",
    "                    gene.weight = random.uniform(0, gene.max_weight)\n",
    "        self.total_weight = sum(gene.weight for gene in self.genes)\n",
    "        self.total_value = sum(gene.weight * gene.value_per_weight for gene in self.genes)\n",
    "        self.variety_of_snacks = len(self.genes)\n",
    "        self.fitness = 0 \n",
    "         \n",
    "    \n",
    "    def __repr__(self):\n",
    "        return f\"\\nChromosome(genes=\\n{self.genes}, fitness={self.fitness}) \\nTotal Weight: {self.total_weight}\\nTotal Value: { self.total_value}\\nRange: {self.variety_of_snacks}\\n{\"---\"*25} \\n\"\n",
    "        \n",
    "    def __str__(self):\n",
    "        genes_str = '\\n'.join(str(gene) for gene in self.genes)\n",
    "        return f\"\\nChromosome Details:\\nGenes:\\n{genes_str}\\nFitness: {self.fitness} \\nTotal Weight: {self.total_weight}\\nTotal Value: { self.total_value}\\nRange: {self.variety_of_snacks}\\n{\"---\"*25} \\n\"\n",
    "        \n",
    "\n"
   ]
  },
  {
   "cell_type": "markdown",
   "id": "a5fbd171-075d-45ab-9270-9926619b85f6",
   "metadata": {},
   "source": [
    "## Genes pool:"
   ]
  },
  {
   "cell_type": "code",
   "execution_count": null,
   "id": "821fb9a0-bece-4467-84be-dd887a03714d",
   "metadata": {},
   "outputs": [],
   "source": [
    "\n",
    "genes_pool = df.copy()\n",
    "genes_pool.rename(columns={'Snack': 'Name'}, inplace=True)\n",
    "genes_pool.rename(columns={'Available Weight': 'Maximum Weight'}, inplace=True)\n",
    "genes_pool['Value per Weight'] = genes_pool['Value'] / genes_pool['Maximum Weight']\n",
    "genes_pool = genes_pool[['Name', 'Maximum Weight', 'Value per Weight']]\n"
   ]
  },
  {
   "cell_type": "code",
   "execution_count": null,
   "id": "6f7d88fb-141f-49dd-859f-05bb7b79bfea",
   "metadata": {},
   "outputs": [],
   "source": [
    "genes_pool"
   ]
  },
  {
   "cell_type": "code",
   "execution_count": null,
   "id": "b0ddc796-6ac3-4e88-b53e-342b6111b52d",
   "metadata": {},
   "outputs": [],
   "source": [
    "gene_objects = [Gene(row['Name'], row['Maximum Weight'], row['Value per Weight']) for index, row in genes_pool.iterrows()]"
   ]
  },
  {
   "cell_type": "code",
   "execution_count": null,
   "id": "0bd82c1a-9815-46a0-baac-841044e731ac",
   "metadata": {},
   "outputs": [],
   "source": [
    "gene_objects"
   ]
  },
  {
   "cell_type": "markdown",
   "id": "6c2c8a3e-7778-48db-8b8a-d80208616cdc",
   "metadata": {},
   "source": [
    "# Part Two: Primary population production"
   ]
  },
  {
   "cell_type": "code",
   "execution_count": null,
   "id": "93b2da47-058d-4c0e-8a90-2119142f0f7c",
   "metadata": {},
   "outputs": [],
   "source": [
    "initial_population = []\n",
    "for _ in range(population_size):\n",
    "    x = random.randint(min_n, max_n)\n",
    "    genes_temp = random.sample(gene_objects, x)\n",
    "    c = Chromosome(genes_temp, True)\n",
    "    initial_population.append(c)\n",
    "    c = None\n"
   ]
  },
  {
   "cell_type": "code",
   "execution_count": null,
   "id": "399225f6-803e-4996-b380-89507c5bf6ff",
   "metadata": {},
   "outputs": [],
   "source": [
    "initial_population"
   ]
  },
  {
   "cell_type": "markdown",
   "id": "ae45e4d6-554a-497f-95fc-fc930e027aa2",
   "metadata": {},
   "source": [
    "# Part three: Implementation and specification of compatibility criterion function"
   ]
  },
  {
   "cell_type": "markdown",
   "id": "dbf00c71-b77b-46a6-a548-b2cbc299293a",
   "metadata": {},
   "source": [
    "## fitness"
   ]
  },
  {
   "cell_type": "code",
   "execution_count": null,
   "id": "38a19967-3216-430d-8fb6-7e4f23b1c674",
   "metadata": {},
   "outputs": [],
   "source": [
    "def calculate_fitness(chromosome):\n",
    "    fitness = chromosome.total_value\n",
    "    penalty_weight =max_w - chromosome.total_weight\n",
    "    penalties = 0\n",
    "    if penalty_weight < 0:\n",
    "        penalties = penalty_weight \n",
    "    if penalties < 0 :\n",
    "        fitness = penalties\n",
    "    return fitness\n",
    "    \n"
   ]
  },
  {
   "cell_type": "markdown",
   "id": "25460c79-4b91-4df1-b8d4-9d9c7b9aec9c",
   "metadata": {},
   "source": [
    "#### Update Chromosomes Fitness'"
   ]
  },
  {
   "cell_type": "code",
   "execution_count": null,
   "id": "52e42a7f-f374-4cf0-839c-922975edbdc2",
   "metadata": {},
   "outputs": [],
   "source": [
    "def update_fitness(population):\n",
    "    for chromosome in population:\n",
    "        chromosome.fitness = calculate_fitness(chromosome)\n",
    "    return population\n",
    "    "
   ]
  },
  {
   "cell_type": "code",
   "execution_count": null,
   "id": "bf0133b2-2911-4c50-ab06-d86bc48901c2",
   "metadata": {},
   "outputs": [],
   "source": [
    "initial_population = update_fitness(initial_population)"
   ]
  },
  {
   "cell_type": "code",
   "execution_count": null,
   "id": "e6fece76-c063-4979-a285-f7b34ad999f0",
   "metadata": {},
   "outputs": [],
   "source": [
    "initial_population"
   ]
  },
  {
   "cell_type": "markdown",
   "id": "5ee4e554-afb7-4b4e-9f35-885ff8235c88",
   "metadata": {},
   "source": [
    "## Population compatibility:"
   ]
  },
  {
   "cell_type": "code",
   "execution_count": null,
   "id": "a5b3f087-fed6-4896-b3ce-ca69451abd55",
   "metadata": {},
   "outputs": [],
   "source": [
    "def print_population_compatibility(population):\n",
    "    print(\"Population compatibility:\")\n",
    "    print(f\"Avg Fitness: {sum(c.fitness for c in population) / len(population)}\")\n",
    "    print(f\"Max Fitness: {max(c.fitness for c in population)}\")\n",
    "    print(f\"Avg Value per Weight: {sum(c.total_value / c.total_weight for c in population) / len(population)}\")\n",
    "    print(f\"Max Avg Value per Weight: {max(c.total_value / c.total_weight for c in population)}\")\n",
    "    print(\"--\" * 25)"
   ]
  },
  {
   "cell_type": "code",
   "execution_count": null,
   "id": "32604e9e-f824-4a9d-9657-088941f0e31f",
   "metadata": {},
   "outputs": [],
   "source": [
    "print_population_compatibility(initial_population)"
   ]
  },
  {
   "cell_type": "markdown",
   "id": "5320315f-9722-44a3-9d75-552e670ac438",
   "metadata": {},
   "source": [
    "## find winner"
   ]
  },
  {
   "cell_type": "code",
   "execution_count": null,
   "id": "821bb7ef-06c8-404c-94a3-13c5609bffd9",
   "metadata": {},
   "outputs": [],
   "source": [
    "def find_winner(population):\n",
    "    max_fitness = float('-inf')\n",
    "    winner = population[0];\n",
    "    for chromosome in population:\n",
    "        if (chromosome.fitness > max_fitness):\n",
    "            max_fitness = chromosome.fitness\n",
    "            winner = chromosome\n",
    "    return winner"
   ]
  },
  {
   "cell_type": "code",
   "execution_count": null,
   "id": "9cf3aa90-f427-44be-830a-952bfdf9f483",
   "metadata": {},
   "outputs": [],
   "source": [
    "def check_for_answer(population):\n",
    "    winner = find_winner(population)\n",
    "    if winner.fitness >= min_v:\n",
    "        return winner\n",
    "    return None"
   ]
  },
  {
   "cell_type": "code",
   "execution_count": null,
   "id": "4efdf276-bd77-4d43-b53a-df6382823f70",
   "metadata": {},
   "outputs": [],
   "source": [
    "def print_winner(winner):\n",
    "    for Gene in winner.genes:\n",
    "        print(f\"{Gene.name}: {Gene.weight}\")\n",
    "    print(f\"Total Weight: {winner.total_weight}\")\n",
    "    print(f\"Total Value: {winner.total_value}\")"
   ]
  },
  {
   "cell_type": "markdown",
   "id": "ef45381b-a95c-4af1-beed-a585b307c9b0",
   "metadata": {},
   "source": [
    "# Part four: Generating a new generation"
   ]
  },
  {
   "cell_type": "markdown",
   "id": "5013aa48-a48d-49dc-8e1a-02793ee707cf",
   "metadata": {},
   "source": [
    "#### Probability:"
   ]
  },
  {
   "cell_type": "code",
   "execution_count": null,
   "id": "abc87751-c80e-4a9e-a7ca-ff7df747676c",
   "metadata": {},
   "outputs": [],
   "source": [
    "def decide_with_probability(p, thing1, thing2):\n",
    "    if random.random() < p:\n",
    "        return thing1\n",
    "    else:\n",
    "        return thing2"
   ]
  },
  {
   "cell_type": "markdown",
   "id": "232f3b80-2bc9-41fa-8a09-ddf13b200dfe",
   "metadata": {},
   "source": [
    "## Crossover:"
   ]
  },
  {
   "cell_type": "markdown",
   "id": "0f932bfe-eb69-41a6-bca7-df65aadc527d",
   "metadata": {},
   "source": [
    "#### Crossover Function:"
   ]
  },
  {
   "cell_type": "code",
   "execution_count": null,
   "id": "10e832ac-4989-4943-8c88-21f028b69d45",
   "metadata": {},
   "outputs": [],
   "source": [
    "def crossover(prob , parent1, parent2, min_n, max_n):\n",
    "    x = min(len(parent1.genes), len(parent2.genes))\n",
    "    if x <= 1:\n",
    "        return [parent1, parent2]\n",
    "    if parent1 == parent2:\n",
    "        return [parent1, parent2]\n",
    "        \n",
    "    child1 = Chromosome(parent1.genes, False);\n",
    "    child2 = Chromosome(parent2.genes, False);\n",
    "\n",
    "    possible1 = [g for g in child1.genes if g.name not in [k.name for k in child2.genes]]\n",
    "    possible2 = [g for g in child2.genes if g.name not in [k.name for k in child1.genes]]\n",
    "    if min(len(possible1), len(possible2)) >= 1 :\n",
    "        i = random.randint(0, min(len(possible1), len(possible2)) - 1)\n",
    "        child1.genes.remove(possible1[i])\n",
    "        child2.genes.remove(possible2[i])\n",
    "        child1.genes.append(possible2[i])\n",
    "        child2.genes.append(possible1[i])\n",
    "\n",
    "    def select_new_generation(prob, child1, child2, parent1, parent2):\n",
    "        if (max_w - child1.total_weight - child2.total_weight > max_w - parent1.total_weight - parent2.total_weight):    \n",
    "            return decide_with_probability(prob,  [parent1, parent2],  [child1, child2])            \n",
    "        return decide_with_probability(prob, [child1, child2], [parent1, parent2])\n",
    "\n",
    "    return select_new_generation(prob, child1, child2, parent1, parent2)\n",
    "    "
   ]
  },
  {
   "cell_type": "code",
   "execution_count": null,
   "id": "cb135513-481c-4ea4-a433-bd3c7255e8d5",
   "metadata": {},
   "outputs": [],
   "source": [
    "def generate_new_population_crossover(prob, population):\n",
    "    np.random.shuffle(population)\n",
    "    new_population = []\n",
    "    for i  in range(0, round((population_size)/2)):\n",
    "        parent1 = population[i]\n",
    "        parent2 = population[-i]\n",
    "        new_generation = crossover(prob , parent1, parent2, min_n, max_n)\n",
    "        new_population.append(new_generation[0])\n",
    "        new_population.append(new_generation[1])\n",
    "    return new_population"
   ]
  },
  {
   "cell_type": "markdown",
   "id": "6be75c6f-f2dc-4a61-b2f2-a2d57474b194",
   "metadata": {},
   "source": [
    "## Mutation:"
   ]
  },
  {
   "cell_type": "code",
   "execution_count": null,
   "id": "095c3d03-2a31-4172-8661-c8bd5651a144",
   "metadata": {},
   "outputs": [],
   "source": [
    "def mutation(prob_m, population):\n",
    "    np.random.shuffle(population)\n",
    "    new_population = []\n",
    "    for i  in range(0, population_size - 1):\n",
    "        parent = population[i]\n",
    "        genes = []\n",
    "        for g in parent.genes:\n",
    "            genes.append(g)\n",
    "\n",
    "        genes.sort(key=lambda x: x.value_per_weight)\n",
    "\n",
    "        pre_gene = genes.pop(0)\n",
    "\n",
    "        sorted_genes = gene_objects\n",
    "        sorted_genes.sort(key=lambda x: x.value_per_weight, reverse=True)\n",
    "\n",
    "        new_gene = pre_gene\n",
    "\n",
    "        flag1 = False \n",
    "        flag2 = True\n",
    "        p = False\n",
    "        for g in sorted_genes:\n",
    "            if pre_gene.name == g.name:    \n",
    "                p = True\n",
    "                genes.append(pre_gene)\n",
    "                break\n",
    "            if any(x.name == g.name for x in genes) == True:\n",
    "                continue\n",
    "            else:\n",
    "                new_gene = g\n",
    "                break\n",
    "        if p: \n",
    "            n = random.randint(0, len(genes) - 1)\n",
    "            if (parent.total_weight > max_w):\n",
    "                genes[n].weight = random.uniform(0, genes[n].weight)\n",
    "                while genes[n].weight == 0:\n",
    "                    genes[n].weight = random.uniform(0, genes[n].weight)\n",
    "            else:\n",
    "                genes[n].weight = random.uniform(genes[n].weight, genes[n].max_weight)\n",
    "            \n",
    "        else:\n",
    "            if parent.variety_of_snacks > min_n:\n",
    "                flag1 = True \n",
    "            if pre_gene.weight == pre_gene.max_weight: \n",
    "                flag2 = True \n",
    "            if flag1:\n",
    "                if random.random() > 0.1:\n",
    "                    genes.append(new_gene)\n",
    "                else:\n",
    "                    if len(genes) < min_n:\n",
    "                         genes.append(new_gene)\n",
    "            else: \n",
    "                genes.append(new_gene)\n",
    "            if flag2:\n",
    "                not_in_parent = [obj for obj in sorted_genes if obj.name not in [objj.name for objj in parent.genes]]\n",
    "                if random.random() > 0.9 and len(not_in_parent) != 0:\n",
    "                    new_new = random.choice(not_in_parent)\n",
    "                    new_new.weight = random.uniform(0, new_new.max_weight)\n",
    "                    if any(x.name == new_new.name for x in genes) == False and len(genes) < max_n:\n",
    "                        genes.append(new_new)\n",
    "            for g in genes:\n",
    "                if g.name == new_gene.name:\n",
    "                    g.weight = random.uniform(min(g.max_weight, pre_gene.weight), new_gene.max_weight)\n",
    "                    break               \n",
    "        if len(genes) == 0:\n",
    "            return population\n",
    "        child = Chromosome(genes, False)\n",
    "        #print(f\"parent: {parent}\")\n",
    "        #print (f\"child: {child}\")\n",
    "        #print(\"__\" * 10)\n",
    "        genes.clear() \n",
    "        new_generation = decide_with_probability(prob_m, parent, child)\n",
    "        new_population.append(new_generation)\n",
    "    return new_population"
   ]
  },
  {
   "cell_type": "markdown",
   "id": "7912c797-9a41-4d53-8727-a5d3c14fa82a",
   "metadata": {},
   "source": [
    "## Generating a new generation"
   ]
  },
  {
   "cell_type": "code",
   "execution_count": null,
   "id": "4e88ff49-0d7c-4f80-8258-a09ca91aae18",
   "metadata": {},
   "outputs": [],
   "source": [
    "def generate_new_geneation(population, prob_c, prob_m):\n",
    "        new_population = population\n",
    "        new_population = generate_new_population_crossover(prob_c, new_population)\n",
    "        new_population = mutation(prob_m, new_population)\n",
    "        new_population = update_fitness(new_population)\n",
    "        return new_population"
   ]
  },
  {
   "cell_type": "markdown",
   "id": "96049e19-667e-40bd-b9f6-b41dc54ed479",
   "metadata": {},
   "source": [
    "# Part five: Creating a Genetic Algorithm on the Problem"
   ]
  },
  {
   "cell_type": "markdown",
   "id": "1741d8d9-f9a3-42ad-9554-8adaa7b0a86e",
   "metadata": {},
   "source": [
    "## Algorithm:"
   ]
  },
  {
   "cell_type": "code",
   "execution_count": null,
   "id": "15ed716c-e70b-4314-9be3-8c847e6c918f",
   "metadata": {},
   "outputs": [],
   "source": [
    "def genetic_algorithm(initial_population):\n",
    "    initial_population = update_fitness(initial_population)\n",
    "    population = initial_population\n",
    "    winner = check_for_answer(population)\n",
    "    counter = 0\n",
    "    cur_fit = sum(c.fitness for c in population) / len(population)\n",
    "    value_per_weight = sum(c.total_value / c.total_weight for c in population) / len(population)\n",
    "    \n",
    "    while winner == None and counter < max_run:\n",
    "        fitness_arr.append(cur_fit)\n",
    "        val_weight_arr.append(value_per_weight)   \n",
    "        max_fitness_arr.append(max(c.fitness for c in population))\n",
    "        max_val_weight_arr.append(max(c.total_value / c.total_weight for c in population)) \n",
    "        counter = counter + 1\n",
    "        prob_m = max (1 / (counter + 1), 1/10)\n",
    "        prob_c = 0.25\n",
    "        population = generate_new_geneation(population, prob_c, prob_m)\n",
    "        cur_fit = sum(c.fitness for c in population)/ len(population)\n",
    "        value_per_weight = sum(c.total_value / c.total_weight for c in population) / len(population)\n",
    "        winner =check_for_answer(population)\n",
    "        \n",
    "    fitness_arr.append(cur_fit)\n",
    "    val_weight_arr.append(value_per_weight)   \n",
    "    max_fitness_arr.append(max(c.fitness for c in population))\n",
    "    max_val_weight_arr.append(max(c.total_value / c.total_weight for c in population)) \n",
    "        \n",
    "    if winner != None:\n",
    "        print(f\"OK -#run: {counter + 1}\")\n",
    "    else:\n",
    "        print(\"fail\")\n",
    "    return winner, population"
   ]
  },
  {
   "cell_type": "markdown",
   "id": "fed5e069-842c-498a-8b67-d4d4086b54b2",
   "metadata": {},
   "source": [
    "# Part six: Evaluation of Results"
   ]
  },
  {
   "cell_type": "markdown",
   "id": "3e63d264-6756-4366-90a5-5436aa1aeffb",
   "metadata": {},
   "source": [
    "## Execute Program:"
   ]
  },
  {
   "cell_type": "code",
   "execution_count": null,
   "id": "60fe8ea6-51cd-4cf0-919e-a1713080d50f",
   "metadata": {},
   "outputs": [],
   "source": [
    "fitness_arr = []\n",
    "val_weight_arr = []\n",
    "max_fitness_arr = []\n",
    "max_val_weight_arr = []\n",
    "winner, population = genetic_algorithm(initial_population)"
   ]
  },
  {
   "cell_type": "code",
   "execution_count": null,
   "id": "2beaacab-dc0f-4788-a2c3-ed3f1e15f842",
   "metadata": {},
   "outputs": [],
   "source": [
    "if winner != None:\n",
    "    print_winner(winner)\n",
    "else: \n",
    "    print(\"No answer found:\\n\")\n",
    "    \n",
    "    print(\"The best possible answer: \")\n",
    "    print(find_winner(population))"
   ]
  },
  {
   "cell_type": "markdown",
   "id": "7b3ec50b-c829-498d-a464-2dcbfe781fdb",
   "metadata": {},
   "source": [
    "## Details:"
   ]
  },
  {
   "cell_type": "code",
   "execution_count": null,
   "id": "e9a4c36d-0da4-42ae-99e6-f5e62ab919c8",
   "metadata": {},
   "outputs": [],
   "source": [
    "def plot_details(val_weight_arr, fitness_arr, max_val_weight_arr, max_fitness_arr):\n",
    "    def plot_detail(y, title, axes, i):\n",
    "        x = [i for i in range(0, len(y))]\n",
    "        axes[i].set_title(title)\n",
    "        axes[i].plot(x,y)\n",
    "    fig, axes = plt.subplots(nrows=1, ncols=2, figsize=(10, 4))\n",
    "    plot_detail(fitness_arr, \"Avg Fitness\", axes, 0)\n",
    "    plot_detail(val_weight_arr, \"Avg Value Per Weight\", axes, 1)\n",
    "    fig.tight_layout()\n",
    "    plt.show()\n",
    "    fig2, axes2 = plt.subplots(nrows=1, ncols=2, figsize=(10, 4))\n",
    "    plot_detail(max_fitness_arr, \"Max Fitness\", axes2, 0)\n",
    "    plot_detail(max_val_weight_arr, \"Max Value Per Weight\", axes2, 1)\n",
    "    fig2.tight_layout()\n",
    "    plt.show()"
   ]
  },
  {
   "cell_type": "code",
   "execution_count": null,
   "id": "4505b533-07cb-42cc-902a-e1c0fee8cce0",
   "metadata": {},
   "outputs": [],
   "source": [
    "print(f\"#run = {len(max_fitness_arr)}\")\n",
    "plot_details(val_weight_arr, fitness_arr, max_val_weight_arr, max_fitness_arr)\n"
   ]
  },
  {
   "cell_type": "code",
   "execution_count": null,
   "id": "f029db2e-3144-40fc-80f7-644787efe9ae",
   "metadata": {},
   "outputs": [],
   "source": [
    "def print_details(val_weight_arr, fitness_arr, max_val_weight_arr, max_fitness_arr):\n",
    "    for i in range(0, len(fitness_arr)):\n",
    "        print(f\"i: {i}\")\n",
    "        print(f\"avg fitness: {fitness_arr[i]}\")\n",
    "        print(f\"max fitness: {max_fitness_arr[i]}\")\n",
    "        print(f\"avg value per weight: {val_weight_arr[i]}\")\n",
    "        print(f\"max value per weight: {max_val_weight_arr[i]}\")\n",
    "        print(\"_\" * 50)"
   ]
  },
  {
   "cell_type": "code",
   "execution_count": null,
   "id": "cd0b72ef-b2cb-4934-ba43-561481bc107d",
   "metadata": {},
   "outputs": [],
   "source": [
    "print_details(val_weight_arr, fitness_arr,  max_val_weight_arr, max_fitness_arr)"
   ]
  },
  {
   "cell_type": "code",
   "execution_count": null,
   "id": "44da581b-f79f-46fc-8e9e-b71b60cb71ac",
   "metadata": {},
   "outputs": [],
   "source": []
  }
 ],
 "metadata": {
  "kernelspec": {
   "display_name": "Python 3 (ipykernel)",
   "language": "python",
   "name": "python3"
  },
  "language_info": {
   "codemirror_mode": {
    "name": "ipython",
    "version": 3
   },
   "file_extension": ".py",
   "mimetype": "text/x-python",
   "name": "python",
   "nbconvert_exporter": "python",
   "pygments_lexer": "ipython3",
   "version": "3.12.2"
  }
 },
 "nbformat": 4,
 "nbformat_minor": 5
}
