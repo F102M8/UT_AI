{
 "cells": [
  {
   "cell_type": "markdown",
   "id": "f0ac5ce6-045d-4644-b225-ffcd1aba1bdb",
   "metadata": {},
   "source": [
    "# Import libraries:"
   ]
  },
  {
   "cell_type": "code",
   "execution_count": 1,
   "id": "db062f08-1060-4e3b-9494-9c36a9a8a237",
   "metadata": {},
   "outputs": [],
   "source": [
    "import pandas as pd\n",
    "import numpy as np\n",
    "import random as random\n",
    "import matplotlib.pyplot as plt"
   ]
  },
  {
   "cell_type": "markdown",
   "id": "7b3d0998-8ef9-4ab3-87f8-8a56c4f10d37",
   "metadata": {},
   "source": [
    "# Get inputs:"
   ]
  },
  {
   "cell_type": "code",
   "execution_count": 2,
   "id": "89d4dd63-86d5-46f3-9a6a-0bd523c4da77",
   "metadata": {},
   "outputs": [
    {
     "name": "stdin",
     "output_type": "stream",
     "text": [
      "Enter the minimum value (min_v) you want to achieve:  24\n",
      "Enter the maximum weight (max_w) allowed:  12\n",
      "Enter the minimum number of snack types (min_n):  1\n",
      "Enter the maximum number of snack types (max_n):  19\n"
     ]
    }
   ],
   "source": [
    "min_v = float(input(\"Enter the minimum value (min_v) you want to achieve: \"))\n",
    "max_w = float(input(\"Enter the maximum weight (max_w) allowed: \"))\n",
    "\n",
    "min_n = int(input(\"Enter the minimum number of snack types (min_n): \"))\n",
    "max_n = int(input(\"Enter the maximum number of snack types (max_n): \"))"
   ]
  },
  {
   "cell_type": "code",
   "execution_count": 3,
   "id": "8324746b-71b4-452c-ad63-b851b305aee0",
   "metadata": {},
   "outputs": [
    {
     "name": "stdin",
     "output_type": "stream",
     "text": [
      "Enter population size:  20\n"
     ]
    }
   ],
   "source": [
    "population_size = int(input(\"Enter population size: \"))"
   ]
  },
  {
   "cell_type": "code",
   "execution_count": 4,
   "id": "c7c1030c-348b-4309-9e43-63f2e02f138d",
   "metadata": {},
   "outputs": [
    {
     "name": "stdin",
     "output_type": "stream",
     "text": [
      " 100\n"
     ]
    }
   ],
   "source": [
    "max_run = int(input())"
   ]
  },
  {
   "cell_type": "code",
   "execution_count": 5,
   "id": "c2965f60-8a2a-4635-a07b-a7cccd4475a5",
   "metadata": {},
   "outputs": [
    {
     "name": "stdout",
     "output_type": "stream",
     "text": [
      "min value: 24.0,\n",
      "max weight: 12.0,\n",
      "range: 1-19,\n",
      "population size: 20,\n",
      "max run: 100\n"
     ]
    }
   ],
   "source": [
    "print(f\"min value: {min_v},\\nmax weight: {max_w},\\nrange: {min_n}-{max_n},\\npopulation size: {population_size},\\nmax run: {max_run}\")"
   ]
  },
  {
   "cell_type": "markdown",
   "id": "d82c16c9-5e63-4746-8bbd-927d082cb74b",
   "metadata": {},
   "source": [
    "# read CSV file and save to Data Frame:"
   ]
  },
  {
   "cell_type": "code",
   "execution_count": 6,
   "id": "6040ee24-6a1f-4430-b4fa-71384d3291ba",
   "metadata": {},
   "outputs": [],
   "source": [
    "file_path = 'snacks.csv'\n",
    "df = pd.read_csv(file_path)"
   ]
  },
  {
   "cell_type": "code",
   "execution_count": 7,
   "id": "8c22aa7a-33c2-4367-af76-4dde0e3a2165",
   "metadata": {},
   "outputs": [
    {
     "name": "stdout",
     "output_type": "stream",
     "text": [
      "            Snack  Available Weight  Value\n",
      "0          MazMaz                10     10\n",
      "1   Doogh-e-Abali                15     10\n",
      "2            Nani                 5      5\n",
      "3            Jooj                 7     15\n",
      "4         Hot-Dog                20     15\n",
      "5           Chips                 8      6\n",
      "6        Nooshaba                12      8\n",
      "7        Shokolat                 6      7\n",
      "8       Chocoroll                 9     12\n",
      "9         Cookies                11     11\n",
      "10        Abnabat                 4      4\n",
      "11   Adams-Khersi                14      9\n",
      "12        Popcorn                16     13\n",
      "13         Pastil                 3      7\n",
      "14       Tordilla                10      9\n",
      "15       Masghati                 5      6\n",
      "16        Ghottab                 7     10\n",
      "17   Saghe-Talaei                 9     11\n",
      "18    Choob-Shoor                13     12\n"
     ]
    }
   ],
   "source": [
    "print(df)"
   ]
  },
  {
   "cell_type": "markdown",
   "id": "5ceecdba-8dea-4150-b310-fecc1133dd91",
   "metadata": {},
   "source": [
    "# Part One: Defining Basic Concepts"
   ]
  },
  {
   "cell_type": "markdown",
   "id": "376878ef-eba3-46e1-8188-693a2ec167b4",
   "metadata": {},
   "source": [
    "## Gene:"
   ]
  },
  {
   "cell_type": "code",
   "execution_count": 8,
   "id": "e42a2d83-77b8-4c96-ba2e-6bd70c41f34d",
   "metadata": {},
   "outputs": [],
   "source": [
    "class Gene:\n",
    "    def __init__(self, name, max_weight, value_per_weight, weight = 0):\n",
    "        self.name = name\n",
    "        self.max_weight = max_weight\n",
    "        self.weight = weight\n",
    "        self.value_per_weight = value_per_weight\n",
    "        \n",
    "    def __repr__(self):\n",
    "        return f\"Gene(name={self.name}, weight={self.weight}, max_weight={self.max_weight}, value_per_weight={self.value_per_weight}\\n)\"\n",
    "\n",
    "    def __str__(self):\n",
    "        return f\"{self.name}: Weight={self.weight}, Value per Weight={self.value_per_weight}\"\n"
   ]
  },
  {
   "cell_type": "markdown",
   "id": "1ab73bd3-0b40-4ddb-ada2-cf55ac14dfcc",
   "metadata": {},
   "source": [
    "## Chromosome:"
   ]
  },
  {
   "cell_type": "code",
   "execution_count": 9,
   "id": "116db1e8-5b62-4d5c-a6c4-fa5a091f474f",
   "metadata": {},
   "outputs": [],
   "source": [
    "class Chromosome:\n",
    "    def __init__(self, geness, new_born = False):\n",
    "        self.genes_temp = geness\n",
    "        self.genes = []\n",
    "        for g in self.genes_temp:\n",
    "            self.genes.append(Gene(g.name, g.max_weight, g.value_per_weight, g.weight))\n",
    "        if (new_born == True):\n",
    "            for gene in self.genes:\n",
    "                gene.weight = random.uniform(0, gene.max_weight)\n",
    "        self.genes.sort(key=lambda x: x.name)\n",
    "        self.total_weight = sum(gene.weight for gene in self.genes)\n",
    "        self.total_value = sum(gene.weight * gene.value_per_weight for gene in self.genes)\n",
    "        self.variety_of_snacks = len(self.genes)\n",
    "        self.fitness = 0 \n",
    "         \n",
    "    \n",
    "    def __repr__(self):\n",
    "        return f\"\\nChromosome(genes=\\n{self.genes}, fitness={self.fitness}) \\nTotal Weight: {self.total_weight}\\nTotal Value: { self.total_value}\\nRange: {self.variety_of_snacks}\\n{\"---\"*25} \\n\"\n",
    "        \n",
    "    def __str__(self):\n",
    "        genes_str = '\\n'.join(str(gene) for gene in self.genes)\n",
    "        return f\"\\nChromosome Details:\\nGenes:\\n{genes_str}\\nFitness: {self.fitness} \\nTotal Weight: {self.total_weight}\\nTotal Value: { self.total_value}\\nRange: {self.variety_of_snacks}\\n{\"---\"*25} \\n\"\n",
    "        \n",
    "\n"
   ]
  },
  {
   "cell_type": "markdown",
   "id": "a5fbd171-075d-45ab-9270-9926619b85f6",
   "metadata": {},
   "source": [
    "## Genes pool:"
   ]
  },
  {
   "cell_type": "code",
   "execution_count": 10,
   "id": "821fb9a0-bece-4467-84be-dd887a03714d",
   "metadata": {},
   "outputs": [],
   "source": [
    "\n",
    "genes_pool = df.copy()\n",
    "genes_pool.rename(columns={'Snack': 'Name'}, inplace=True)\n",
    "genes_pool.rename(columns={'Available Weight': 'Maximum Weight'}, inplace=True)\n",
    "genes_pool['Value per Weight'] = genes_pool['Value'] / genes_pool['Maximum Weight']\n",
    "genes_pool = genes_pool[['Name', 'Maximum Weight', 'Value per Weight']]\n",
    "\n",
    "gene_objects = [Gene(row['Name'], row['Maximum Weight'], row['Value per Weight']) for index, row in genes_pool.iterrows()]\n"
   ]
  },
  {
   "cell_type": "code",
   "execution_count": 11,
   "id": "6f7d88fb-141f-49dd-859f-05bb7b79bfea",
   "metadata": {},
   "outputs": [
    {
     "name": "stdout",
     "output_type": "stream",
     "text": [
      "             Name  Maximum Weight  Value per Weight\n",
      "0          MazMaz              10          1.000000\n",
      "1   Doogh-e-Abali              15          0.666667\n",
      "2            Nani               5          1.000000\n",
      "3            Jooj               7          2.142857\n",
      "4         Hot-Dog              20          0.750000\n",
      "5           Chips               8          0.750000\n",
      "6        Nooshaba              12          0.666667\n",
      "7        Shokolat               6          1.166667\n",
      "8       Chocoroll               9          1.333333\n",
      "9         Cookies              11          1.000000\n",
      "10        Abnabat               4          1.000000\n",
      "11   Adams-Khersi              14          0.642857\n",
      "12        Popcorn              16          0.812500\n",
      "13         Pastil               3          2.333333\n",
      "14       Tordilla              10          0.900000\n",
      "15       Masghati               5          1.200000\n",
      "16        Ghottab               7          1.428571\n",
      "17   Saghe-Talaei               9          1.222222\n",
      "18    Choob-Shoor              13          0.923077\n"
     ]
    }
   ],
   "source": [
    "print(genes_pool)"
   ]
  },
  {
   "cell_type": "code",
   "execution_count": 12,
   "id": "0bd82c1a-9815-46a0-baac-841044e731ac",
   "metadata": {},
   "outputs": [
    {
     "name": "stdout",
     "output_type": "stream",
     "text": [
      "[Gene(name=MazMaz, weight=0, max_weight=10, value_per_weight=1.0\n",
      "), Gene(name=Doogh-e-Abali, weight=0, max_weight=15, value_per_weight=0.6666666666666666\n",
      "), Gene(name=Nani, weight=0, max_weight=5, value_per_weight=1.0\n",
      "), Gene(name=Jooj, weight=0, max_weight=7, value_per_weight=2.142857142857143\n",
      "), Gene(name=Hot-Dog, weight=0, max_weight=20, value_per_weight=0.75\n",
      "), Gene(name=Chips, weight=0, max_weight=8, value_per_weight=0.75\n",
      "), Gene(name=Nooshaba, weight=0, max_weight=12, value_per_weight=0.6666666666666666\n",
      "), Gene(name=Shokolat, weight=0, max_weight=6, value_per_weight=1.1666666666666667\n",
      "), Gene(name=Chocoroll, weight=0, max_weight=9, value_per_weight=1.3333333333333333\n",
      "), Gene(name=Cookies, weight=0, max_weight=11, value_per_weight=1.0\n",
      "), Gene(name=Abnabat, weight=0, max_weight=4, value_per_weight=1.0\n",
      "), Gene(name=Adams-Khersi, weight=0, max_weight=14, value_per_weight=0.6428571428571429\n",
      "), Gene(name=Popcorn, weight=0, max_weight=16, value_per_weight=0.8125\n",
      "), Gene(name=Pastil, weight=0, max_weight=3, value_per_weight=2.3333333333333335\n",
      "), Gene(name=Tordilla, weight=0, max_weight=10, value_per_weight=0.9\n",
      "), Gene(name=Masghati, weight=0, max_weight=5, value_per_weight=1.2\n",
      "), Gene(name=Ghottab, weight=0, max_weight=7, value_per_weight=1.4285714285714286\n",
      "), Gene(name=Saghe-Talaei, weight=0, max_weight=9, value_per_weight=1.2222222222222223\n",
      "), Gene(name=Choob-Shoor, weight=0, max_weight=13, value_per_weight=0.9230769230769231\n",
      ")]\n"
     ]
    }
   ],
   "source": [
    "print(gene_objects)"
   ]
  },
  {
   "cell_type": "markdown",
   "id": "6c2c8a3e-7778-48db-8b8a-d80208616cdc",
   "metadata": {},
   "source": [
    "# Part Two: Primary population production"
   ]
  },
  {
   "cell_type": "code",
   "execution_count": 13,
   "id": "93b2da47-058d-4c0e-8a90-2119142f0f7c",
   "metadata": {},
   "outputs": [],
   "source": [
    "initial_population = []\n",
    "for _ in range(population_size):\n",
    "    x = random.randint(min_n, max_n)\n",
    "    genes_temp = random.sample(gene_objects, x)\n",
    "    c = Chromosome(genes_temp, True)\n",
    "    initial_population.append(c)\n",
    "    c = None\n"
   ]
  },
  {
   "cell_type": "code",
   "execution_count": 14,
   "id": "399225f6-803e-4996-b380-89507c5bf6ff",
   "metadata": {},
   "outputs": [
    {
     "name": "stdout",
     "output_type": "stream",
     "text": [
      "[\n",
      "Chromosome(genes=\n",
      "[Gene(name=Cookies, weight=4.3313547746967, max_weight=11, value_per_weight=1.0\n",
      "), Gene(name=Doogh-e-Abali, weight=8.38727146740296, max_weight=15, value_per_weight=0.6666666666666666\n",
      "), Gene(name=Ghottab, weight=2.435521124356234, max_weight=7, value_per_weight=1.4285714285714286\n",
      "), Gene(name=Jooj, weight=2.9606513728874466, max_weight=7, value_per_weight=2.142857142857143\n",
      "), Gene(name=Popcorn, weight=14.519720391750921, max_weight=16, value_per_weight=0.8125\n",
      "), Gene(name=Tordilla, weight=2.385711579518923, max_weight=10, value_per_weight=0.9\n",
      ")], fitness=0) \n",
      "Total Weight: 35.020230710613184\n",
      "Total Value: 33.690851160002474\n",
      "Range: 6\n",
      "--------------------------------------------------------------------------- \n",
      ", \n",
      "Chromosome(genes=\n",
      "[Gene(name=Abnabat, weight=3.6657743873674296, max_weight=4, value_per_weight=1.0\n",
      "), Gene(name=Adams-Khersi, weight=13.161492010558948, max_weight=14, value_per_weight=0.6428571428571429\n",
      "), Gene(name=Chips, weight=2.5298194904507847, max_weight=8, value_per_weight=0.75\n",
      "), Gene(name=Chocoroll, weight=2.7200333718037717, max_weight=9, value_per_weight=1.3333333333333333\n",
      "), Gene(name=Cookies, weight=5.256785713378774, max_weight=11, value_per_weight=1.0\n",
      "), Gene(name=Hot-Dog, weight=15.401165075775173, max_weight=20, value_per_weight=0.75\n",
      "), Gene(name=Jooj, weight=6.65814251454389, max_weight=7, value_per_weight=2.142857142857143\n",
      "), Gene(name=Popcorn, weight=1.4705777646580742, max_weight=16, value_per_weight=0.8125\n",
      "), Gene(name=Tordilla, weight=8.041294909527847, max_weight=10, value_per_weight=0.9\n",
      ")], fitness=0) \n",
      "Total Weight: 58.90508523806469\n",
      "Total Value: 57.15792693527668\n",
      "Range: 9\n",
      "--------------------------------------------------------------------------- \n",
      ", \n",
      "Chromosome(genes=\n",
      "[Gene(name=Chips, weight=4.716380678517058, max_weight=8, value_per_weight=0.75\n",
      "), Gene(name=Cookies, weight=6.919241240744144, max_weight=11, value_per_weight=1.0\n",
      "), Gene(name=Doogh-e-Abali, weight=10.350295228801517, max_weight=15, value_per_weight=0.6666666666666666\n",
      "), Gene(name=Popcorn, weight=11.57827269192545, max_weight=16, value_per_weight=0.8125\n",
      "), Gene(name=Shokolat, weight=2.379419756098545, max_weight=6, value_per_weight=1.1666666666666667\n",
      "), Gene(name=Tordilla, weight=3.411500749039967, max_weight=10, value_per_weight=0.9\n",
      ")], fitness=0) \n",
      "Total Weight: 39.35511034512668\n",
      "Total Value: 32.61041052060665\n",
      "Range: 6\n",
      "--------------------------------------------------------------------------- \n",
      ", \n",
      "Chromosome(genes=\n",
      "[Gene(name=Abnabat, weight=1.0821937106029211, max_weight=4, value_per_weight=1.0\n",
      "), Gene(name=Adams-Khersi, weight=11.935892441005759, max_weight=14, value_per_weight=0.6428571428571429\n",
      "), Gene(name=Chips, weight=6.493124404048632, max_weight=8, value_per_weight=0.75\n",
      "), Gene(name=Cookies, weight=10.403846951067104, max_weight=11, value_per_weight=1.0\n",
      "), Gene(name=Doogh-e-Abali, weight=10.851634672565693, max_weight=15, value_per_weight=0.6666666666666666\n",
      "), Gene(name=Masghati, weight=2.9867833948401135, max_weight=5, value_per_weight=1.2\n",
      "), Gene(name=MazMaz, weight=3.2285992307249978, max_weight=10, value_per_weight=1.0\n",
      "), Gene(name=Nani, weight=3.6990268186533264, max_weight=5, value_per_weight=1.0\n",
      "), Gene(name=Nooshaba, weight=10.035919838284693, max_weight=12, value_per_weight=0.6666666666666666\n",
      "), Gene(name=Saghe-Talaei, weight=6.12525288550009, max_weight=9, value_per_weight=1.2222222222222223\n",
      "), Gene(name=Shokolat, weight=2.326323351514745, max_weight=6, value_per_weight=1.1666666666666667\n",
      ")], fitness=0) \n",
      "Total Weight: 69.16859769880807\n",
      "Total Value: 58.66622424402455\n",
      "Range: 11\n",
      "--------------------------------------------------------------------------- \n",
      ", \n",
      "Chromosome(genes=\n",
      "[Gene(name=Shokolat, weight=2.361981603623704, max_weight=6, value_per_weight=1.1666666666666667\n",
      ")], fitness=0) \n",
      "Total Weight: 2.361981603623704\n",
      "Total Value: 2.7556452042276547\n",
      "Range: 1\n",
      "--------------------------------------------------------------------------- \n",
      ", \n",
      "Chromosome(genes=\n",
      "[Gene(name=Chips, weight=0.4948553708207015, max_weight=8, value_per_weight=0.75\n",
      "), Gene(name=Choob-Shoor, weight=1.0409334217727246, max_weight=13, value_per_weight=0.9230769230769231\n",
      "), Gene(name=Doogh-e-Abali, weight=10.201350141262777, max_weight=15, value_per_weight=0.6666666666666666\n",
      "), Gene(name=Hot-Dog, weight=10.216496419780498, max_weight=20, value_per_weight=0.75\n",
      "), Gene(name=Jooj, weight=1.3106234077231933, max_weight=7, value_per_weight=2.142857142857143\n",
      "), Gene(name=Masghati, weight=3.3963543503697142, max_weight=5, value_per_weight=1.2\n",
      "), Gene(name=Nooshaba, weight=3.7716906931819354, max_weight=12, value_per_weight=0.6666666666666666\n",
      "), Gene(name=Pastil, weight=0.3238328124344878, max_weight=3, value_per_weight=2.3333333333333335\n",
      "), Gene(name=Popcorn, weight=9.423401591367975, max_weight=16, value_per_weight=0.8125\n",
      "), Gene(name=Saghe-Talaei, weight=0.23860141275784308, max_weight=9, value_per_weight=1.2222222222222223\n",
      "), Gene(name=Shokolat, weight=4.663203263738282, max_weight=6, value_per_weight=1.1666666666666667\n",
      "), Gene(name=Tordilla, weight=3.1609407776599783, max_weight=10, value_per_weight=0.9\n",
      ")], fitness=0) \n",
      "Total Weight: 48.24228366287011\n",
      "Total Value: 42.18283811580619\n",
      "Range: 12\n",
      "--------------------------------------------------------------------------- \n",
      ", \n",
      "Chromosome(genes=\n",
      "[Gene(name=Adams-Khersi, weight=13.980044015952828, max_weight=14, value_per_weight=0.6428571428571429\n",
      "), Gene(name=Choob-Shoor, weight=4.046519825403049, max_weight=13, value_per_weight=0.9230769230769231\n",
      "), Gene(name=Cookies, weight=7.330515180749881, max_weight=11, value_per_weight=1.0\n",
      "), Gene(name=Doogh-e-Abali, weight=4.374887203020191, max_weight=15, value_per_weight=0.6666666666666666\n",
      "), Gene(name=Hot-Dog, weight=12.743991814233624, max_weight=20, value_per_weight=0.75\n",
      "), Gene(name=Jooj, weight=4.250056704725571, max_weight=7, value_per_weight=2.142857142857143\n",
      "), Gene(name=Masghati, weight=4.063697808553799, max_weight=5, value_per_weight=1.2\n",
      "), Gene(name=Nani, weight=2.610541780741648, max_weight=5, value_per_weight=1.0\n",
      "), Gene(name=Popcorn, weight=5.693406375399624, max_weight=16, value_per_weight=0.8125\n",
      "), Gene(name=Shokolat, weight=4.4497735035942885, max_weight=6, value_per_weight=1.1666666666666667\n",
      "), Gene(name=Tordilla, weight=6.52567867107379, max_weight=10, value_per_weight=0.9\n",
      ")], fitness=0) \n",
      "Total Weight: 70.0691128834483\n",
      "Total Value: 64.81217015593447\n",
      "Range: 11\n",
      "--------------------------------------------------------------------------- \n",
      ", \n",
      "Chromosome(genes=\n",
      "[Gene(name=Abnabat, weight=0.6135794256894167, max_weight=4, value_per_weight=1.0\n",
      "), Gene(name=Adams-Khersi, weight=6.5214283477881505, max_weight=14, value_per_weight=0.6428571428571429\n",
      "), Gene(name=Chocoroll, weight=5.427418204861686, max_weight=9, value_per_weight=1.3333333333333333\n",
      "), Gene(name=Cookies, weight=10.471626009728421, max_weight=11, value_per_weight=1.0\n",
      "), Gene(name=Ghottab, weight=5.602267408156762, max_weight=7, value_per_weight=1.4285714285714286\n",
      "), Gene(name=Hot-Dog, weight=10.389290577525792, max_weight=20, value_per_weight=0.75\n",
      "), Gene(name=Jooj, weight=1.200622726213318, max_weight=7, value_per_weight=2.142857142857143\n",
      "), Gene(name=Masghati, weight=3.4589632551915055, max_weight=5, value_per_weight=1.2\n",
      "), Gene(name=MazMaz, weight=7.7038512127706404, max_weight=10, value_per_weight=1.0\n",
      "), Gene(name=Nani, weight=2.9765267075799025, max_weight=5, value_per_weight=1.0\n",
      "), Gene(name=Pastil, weight=2.0031250622797865, max_weight=3, value_per_weight=2.3333333333333335\n",
      "), Gene(name=Popcorn, weight=12.062455483002207, max_weight=16, value_per_weight=0.8125\n",
      "), Gene(name=Saghe-Talaei, weight=7.544639788960986, max_weight=9, value_per_weight=1.2222222222222223\n",
      "), Gene(name=Shokolat, weight=3.5104942287598657, max_weight=6, value_per_weight=1.1666666666666667\n",
      ")], fitness=0) \n",
      "Total Weight: 79.48628843850844\n",
      "Total Value: 83.504720303426\n",
      "Range: 14\n",
      "--------------------------------------------------------------------------- \n",
      ", \n",
      "Chromosome(genes=\n",
      "[Gene(name=Adams-Khersi, weight=5.683254686919271, max_weight=14, value_per_weight=0.6428571428571429\n",
      "), Gene(name=Choob-Shoor, weight=11.681414767832473, max_weight=13, value_per_weight=0.9230769230769231\n",
      "), Gene(name=Cookies, weight=2.9751991632203714, max_weight=11, value_per_weight=1.0\n",
      "), Gene(name=Doogh-e-Abali, weight=0.6659130980117278, max_weight=15, value_per_weight=0.6666666666666666\n",
      "), Gene(name=Ghottab, weight=0.3612833747075026, max_weight=7, value_per_weight=1.4285714285714286\n",
      "), Gene(name=Hot-Dog, weight=0.6917899923558957, max_weight=20, value_per_weight=0.75\n",
      "), Gene(name=Jooj, weight=2.1370950181998745, max_weight=7, value_per_weight=2.142857142857143\n",
      "), Gene(name=Masghati, weight=2.4395130675002807, max_weight=5, value_per_weight=1.2\n",
      "), Gene(name=MazMaz, weight=8.141295784529095, max_weight=10, value_per_weight=1.0\n",
      "), Gene(name=Nani, weight=4.395948443719142, max_weight=5, value_per_weight=1.0\n",
      "), Gene(name=Nooshaba, weight=2.265069378784072, max_weight=12, value_per_weight=0.6666666666666666\n",
      "), Gene(name=Pastil, weight=1.5988116055190569, max_weight=3, value_per_weight=2.3333333333333335\n",
      "), Gene(name=Saghe-Talaei, weight=3.1959063609984106, max_weight=9, value_per_weight=1.2222222222222223\n",
      "), Gene(name=Shokolat, weight=0.19717559738202795, max_weight=6, value_per_weight=1.1666666666666667\n",
      ")], fitness=0) \n",
      "Total Weight: 46.4296703396792\n",
      "Total Value: 48.311369971654386\n",
      "Range: 14\n",
      "--------------------------------------------------------------------------- \n",
      ", \n",
      "Chromosome(genes=\n",
      "[Gene(name=Abnabat, weight=0.05195471303464849, max_weight=4, value_per_weight=1.0\n",
      "), Gene(name=Adams-Khersi, weight=4.307276108911468, max_weight=14, value_per_weight=0.6428571428571429\n",
      "), Gene(name=Cookies, weight=10.923914845308088, max_weight=11, value_per_weight=1.0\n",
      "), Gene(name=Ghottab, weight=5.161571947635174, max_weight=7, value_per_weight=1.4285714285714286\n",
      "), Gene(name=Jooj, weight=0.3200937594974609, max_weight=7, value_per_weight=2.142857142857143\n",
      "), Gene(name=Masghati, weight=4.535691877067761, max_weight=5, value_per_weight=1.2\n",
      "), Gene(name=Nani, weight=1.7533431291998465, max_weight=5, value_per_weight=1.0\n",
      "), Gene(name=Pastil, weight=1.4473707705315149, max_weight=3, value_per_weight=2.3333333333333335\n",
      "), Gene(name=Tordilla, weight=2.3149135997244707, max_weight=10, value_per_weight=0.9\n",
      ")], fitness=0) \n",
      "Total Weight: 30.816130750910432\n",
      "Total Value: 34.46121626705163\n",
      "Range: 9\n",
      "--------------------------------------------------------------------------- \n",
      ", \n",
      "Chromosome(genes=\n",
      "[Gene(name=Adams-Khersi, weight=8.375658486598812, max_weight=14, value_per_weight=0.6428571428571429\n",
      "), Gene(name=Ghottab, weight=1.5787966329712106, max_weight=7, value_per_weight=1.4285714285714286\n",
      "), Gene(name=Jooj, weight=2.3228243460644724, max_weight=7, value_per_weight=2.142857142857143\n",
      ")], fitness=0) \n",
      "Total Weight: 12.277279465634496\n",
      "Total Value: 12.617256387196264\n",
      "Range: 3\n",
      "--------------------------------------------------------------------------- \n",
      ", \n",
      "Chromosome(genes=\n",
      "[Gene(name=Adams-Khersi, weight=1.9301512008680992, max_weight=14, value_per_weight=0.6428571428571429\n",
      "), Gene(name=Cookies, weight=7.21492844757112, max_weight=11, value_per_weight=1.0\n",
      "), Gene(name=Ghottab, weight=2.404778986622312, max_weight=7, value_per_weight=1.4285714285714286\n",
      "), Gene(name=Hot-Dog, weight=11.487704374408828, max_weight=20, value_per_weight=0.75\n",
      "), Gene(name=Masghati, weight=0.17089288226849964, max_weight=5, value_per_weight=1.2\n",
      "), Gene(name=MazMaz, weight=0.6013842365959621, max_weight=10, value_per_weight=1.0\n",
      "), Gene(name=Nani, weight=1.630170303669018, max_weight=5, value_per_weight=1.0\n",
      "), Gene(name=Tordilla, weight=3.1641268006976575, max_weight=10, value_per_weight=0.9\n",
      ")], fitness=0) \n",
      "Total Weight: 28.604137232701497\n",
      "Total Value: 25.79125688658275\n",
      "Range: 8\n",
      "--------------------------------------------------------------------------- \n",
      ", \n",
      "Chromosome(genes=\n",
      "[Gene(name=Abnabat, weight=0.8164951166293233, max_weight=4, value_per_weight=1.0\n",
      "), Gene(name=Adams-Khersi, weight=1.87747769229649, max_weight=14, value_per_weight=0.6428571428571429\n",
      "), Gene(name=Chips, weight=4.095809311553628, max_weight=8, value_per_weight=0.75\n",
      "), Gene(name=Chocoroll, weight=3.1487128276051966, max_weight=9, value_per_weight=1.3333333333333333\n",
      "), Gene(name=Choob-Shoor, weight=1.421342122766987, max_weight=13, value_per_weight=0.9230769230769231\n",
      "), Gene(name=Cookies, weight=6.013417533988172, max_weight=11, value_per_weight=1.0\n",
      "), Gene(name=Jooj, weight=5.713177347440458, max_weight=7, value_per_weight=2.142857142857143\n",
      "), Gene(name=Masghati, weight=2.0991104122784816, max_weight=5, value_per_weight=1.2\n",
      "), Gene(name=MazMaz, weight=0.7921129216874456, max_weight=10, value_per_weight=1.0\n",
      "), Gene(name=Nani, weight=1.2849718171207969, max_weight=5, value_per_weight=1.0\n",
      "), Gene(name=Nooshaba, weight=10.89165746567153, max_weight=12, value_per_weight=0.6666666666666666\n",
      "), Gene(name=Popcorn, weight=0.9683349735737341, max_weight=16, value_per_weight=0.8125\n",
      "), Gene(name=Saghe-Talaei, weight=4.145779442638344, max_weight=9, value_per_weight=1.2222222222222223\n",
      "), Gene(name=Shokolat, weight=3.563424235525484, max_weight=6, value_per_weight=1.1666666666666667\n",
      ")], fitness=0) \n",
      "Total Weight: 46.83182322077607\n",
      "Total Value: 50.72982076485631\n",
      "Range: 14\n",
      "--------------------------------------------------------------------------- \n",
      ", \n",
      "Chromosome(genes=\n",
      "[Gene(name=Adams-Khersi, weight=8.786732453038086, max_weight=14, value_per_weight=0.6428571428571429\n",
      "), Gene(name=Cookies, weight=8.515533981503776, max_weight=11, value_per_weight=1.0\n",
      "), Gene(name=Masghati, weight=1.6803326594643857, max_weight=5, value_per_weight=1.2\n",
      "), Gene(name=MazMaz, weight=9.136766679193116, max_weight=10, value_per_weight=1.0\n",
      "), Gene(name=Nani, weight=2.8522203107688116, max_weight=5, value_per_weight=1.0\n",
      ")], fitness=0) \n",
      "Total Weight: 30.971586083968173\n",
      "Total Value: 28.169533882633164\n",
      "Range: 5\n",
      "--------------------------------------------------------------------------- \n",
      ", \n",
      "Chromosome(genes=\n",
      "[Gene(name=Abnabat, weight=0.9223004513248863, max_weight=4, value_per_weight=1.0\n",
      "), Gene(name=Chips, weight=1.4543009473893633, max_weight=8, value_per_weight=0.75\n",
      "), Gene(name=Chocoroll, weight=6.636990877837239, max_weight=9, value_per_weight=1.3333333333333333\n",
      "), Gene(name=Cookies, weight=9.096178478874506, max_weight=11, value_per_weight=1.0\n",
      "), Gene(name=Nani, weight=1.1750667216599653, max_weight=5, value_per_weight=1.0\n",
      "), Gene(name=Nooshaba, weight=0.4326754283283849, max_weight=12, value_per_weight=0.6666666666666666\n",
      "), Gene(name=Tordilla, weight=7.194788665488602, max_weight=10, value_per_weight=0.9\n",
      ")], fitness=0) \n",
      "Total Weight: 26.912301570902947\n",
      "Total Value: 27.89735261734303\n",
      "Range: 7\n",
      "--------------------------------------------------------------------------- \n",
      ", \n",
      "Chromosome(genes=\n",
      "[Gene(name=Adams-Khersi, weight=8.159085005697397, max_weight=14, value_per_weight=0.6428571428571429\n",
      "), Gene(name=Chips, weight=0.4873560480442052, max_weight=8, value_per_weight=0.75\n",
      "), Gene(name=Chocoroll, weight=1.6442982073163672, max_weight=9, value_per_weight=1.3333333333333333\n",
      "), Gene(name=Choob-Shoor, weight=10.858214812702025, max_weight=13, value_per_weight=0.9230769230769231\n",
      "), Gene(name=Doogh-e-Abali, weight=7.903269934255021, max_weight=15, value_per_weight=0.6666666666666666\n",
      "), Gene(name=Ghottab, weight=2.1546847310426447, max_weight=7, value_per_weight=1.4285714285714286\n",
      "), Gene(name=Hot-Dog, weight=1.5960184323998217, max_weight=20, value_per_weight=0.75\n",
      "), Gene(name=Jooj, weight=6.88122298765265, max_weight=7, value_per_weight=2.142857142857143\n",
      "), Gene(name=Masghati, weight=4.185363177469385, max_weight=5, value_per_weight=1.2\n",
      "), Gene(name=Pastil, weight=0.9782155637944214, max_weight=3, value_per_weight=2.3333333333333335\n",
      "), Gene(name=Popcorn, weight=6.095844802009973, max_weight=16, value_per_weight=0.8125\n",
      "), Gene(name=Saghe-Talaei, weight=1.899974380464616, max_weight=9, value_per_weight=1.2222222222222223\n",
      "), Gene(name=Shokolat, weight=1.4643496368485667, max_weight=6, value_per_weight=1.1666666666666667\n",
      ")], fitness=0) \n",
      "Total Weight: 54.307897719697095\n",
      "Total Value: 58.403879078360944\n",
      "Range: 13\n",
      "--------------------------------------------------------------------------- \n",
      ", \n",
      "Chromosome(genes=\n",
      "[Gene(name=Abnabat, weight=2.784368374641145, max_weight=4, value_per_weight=1.0\n",
      "), Gene(name=Adams-Khersi, weight=12.690417894191853, max_weight=14, value_per_weight=0.6428571428571429\n",
      "), Gene(name=Chips, weight=5.237827582918572, max_weight=8, value_per_weight=0.75\n",
      "), Gene(name=Chocoroll, weight=0.8411386440560827, max_weight=9, value_per_weight=1.3333333333333333\n",
      "), Gene(name=Choob-Shoor, weight=1.6508576820728948, max_weight=13, value_per_weight=0.9230769230769231\n",
      "), Gene(name=Cookies, weight=1.0069496326725564, max_weight=11, value_per_weight=1.0\n",
      "), Gene(name=Doogh-e-Abali, weight=12.615455653749795, max_weight=15, value_per_weight=0.6666666666666666\n",
      "), Gene(name=Ghottab, weight=3.4189310883457136, max_weight=7, value_per_weight=1.4285714285714286\n",
      "), Gene(name=Hot-Dog, weight=0.6002548195300039, max_weight=20, value_per_weight=0.75\n",
      "), Gene(name=Jooj, weight=1.8645648567410766, max_weight=7, value_per_weight=2.142857142857143\n",
      "), Gene(name=Masghati, weight=1.158747593013154, max_weight=5, value_per_weight=1.2\n",
      "), Gene(name=MazMaz, weight=4.2499275418531965, max_weight=10, value_per_weight=1.0\n",
      "), Gene(name=Nani, weight=0.3307110468493929, max_weight=5, value_per_weight=1.0\n",
      "), Gene(name=Nooshaba, weight=2.5964791289290283, max_weight=12, value_per_weight=0.6666666666666666\n",
      "), Gene(name=Pastil, weight=0.06250099263108211, max_weight=3, value_per_weight=2.3333333333333335\n",
      "), Gene(name=Popcorn, weight=11.554318239929215, max_weight=16, value_per_weight=0.8125\n",
      "), Gene(name=Saghe-Talaei, weight=5.182113798534677, max_weight=9, value_per_weight=1.2222222222222223\n",
      "), Gene(name=Shokolat, weight=0.5255644998538287, max_weight=6, value_per_weight=1.1666666666666667\n",
      "), Gene(name=Tordilla, weight=7.98452238752546, max_weight=10, value_per_weight=0.9\n",
      ")], fitness=0) \n",
      "Total Weight: 76.35565145803872\n",
      "Total Value: 67.63214396004913\n",
      "Range: 19\n",
      "--------------------------------------------------------------------------- \n",
      ", \n",
      "Chromosome(genes=\n",
      "[Gene(name=Abnabat, weight=1.3491519739645876, max_weight=4, value_per_weight=1.0\n",
      "), Gene(name=Chips, weight=0.7254254495121755, max_weight=8, value_per_weight=0.75\n",
      "), Gene(name=MazMaz, weight=8.5342216589775, max_weight=10, value_per_weight=1.0\n",
      "), Gene(name=Saghe-Talaei, weight=1.0915758747378361, max_weight=9, value_per_weight=1.2222222222222223\n",
      ")], fitness=0) \n",
      "Total Weight: 11.7003749571921\n",
      "Total Value: 11.761591011422464\n",
      "Range: 4\n",
      "--------------------------------------------------------------------------- \n",
      ", \n",
      "Chromosome(genes=\n",
      "[Gene(name=Chips, weight=4.851792132494681, max_weight=8, value_per_weight=0.75\n",
      "), Gene(name=Choob-Shoor, weight=2.0347382302087116, max_weight=13, value_per_weight=0.9230769230769231\n",
      "), Gene(name=Cookies, weight=7.962709825701184, max_weight=11, value_per_weight=1.0\n",
      "), Gene(name=Nani, weight=2.6370940454943255, max_weight=5, value_per_weight=1.0\n",
      "), Gene(name=Popcorn, weight=4.527408114217717, max_weight=16, value_per_weight=0.8125\n",
      ")], fitness=0) \n",
      "Total Weight: 22.01374234811662\n",
      "Total Value: 19.79538696817646\n",
      "Range: 5\n",
      "--------------------------------------------------------------------------- \n",
      ", \n",
      "Chromosome(genes=\n",
      "[Gene(name=Abnabat, weight=0.7577214666434533, max_weight=4, value_per_weight=1.0\n",
      "), Gene(name=Adams-Khersi, weight=8.166018892919798, max_weight=14, value_per_weight=0.6428571428571429\n",
      "), Gene(name=Chips, weight=5.840784765261513, max_weight=8, value_per_weight=0.75\n",
      "), Gene(name=Chocoroll, weight=5.451306930430505, max_weight=9, value_per_weight=1.3333333333333333\n",
      "), Gene(name=Choob-Shoor, weight=3.8951792568575363, max_weight=13, value_per_weight=0.9230769230769231\n",
      "), Gene(name=Cookies, weight=8.70682885378261, max_weight=11, value_per_weight=1.0\n",
      "), Gene(name=Doogh-e-Abali, weight=4.253215912182083, max_weight=15, value_per_weight=0.6666666666666666\n",
      "), Gene(name=Ghottab, weight=3.6380852182008945, max_weight=7, value_per_weight=1.4285714285714286\n",
      "), Gene(name=Hot-Dog, weight=17.43103835839158, max_weight=20, value_per_weight=0.75\n",
      "), Gene(name=Jooj, weight=6.3312244841723775, max_weight=7, value_per_weight=2.142857142857143\n",
      "), Gene(name=Masghati, weight=0.6841913350020734, max_weight=5, value_per_weight=1.2\n",
      "), Gene(name=MazMaz, weight=5.041803164010177, max_weight=10, value_per_weight=1.0\n",
      "), Gene(name=Nani, weight=4.554323610402432, max_weight=5, value_per_weight=1.0\n",
      "), Gene(name=Nooshaba, weight=0.3872543150333563, max_weight=12, value_per_weight=0.6666666666666666\n",
      "), Gene(name=Popcorn, weight=5.378463362132866, max_weight=16, value_per_weight=0.8125\n",
      "), Gene(name=Saghe-Talaei, weight=8.801344800581145, max_weight=9, value_per_weight=1.2222222222222223\n",
      "), Gene(name=Shokolat, weight=3.433057676672025, max_weight=6, value_per_weight=1.1666666666666667\n",
      "), Gene(name=Tordilla, weight=8.515692075698881, max_weight=10, value_per_weight=0.9\n",
      ")], fitness=0) \n",
      "Total Weight: 101.26753447837531\n",
      "Total Value: 102.10349546863185\n",
      "Range: 18\n",
      "--------------------------------------------------------------------------- \n",
      "]\n"
     ]
    }
   ],
   "source": [
    "print(initial_population)"
   ]
  },
  {
   "cell_type": "markdown",
   "id": "ae45e4d6-554a-497f-95fc-fc930e027aa2",
   "metadata": {},
   "source": [
    "# Part three: Implementation and specification of compatibility criterion function"
   ]
  },
  {
   "cell_type": "markdown",
   "id": "dbf00c71-b77b-46a6-a548-b2cbc299293a",
   "metadata": {},
   "source": [
    "## fitness"
   ]
  },
  {
   "cell_type": "code",
   "execution_count": 15,
   "id": "38a19967-3216-430d-8fb6-7e4f23b1c674",
   "metadata": {},
   "outputs": [],
   "source": [
    "def calculate_fitness(chromosome):\n",
    "    fitness = chromosome.total_value\n",
    "    penalty_weight =max_w - chromosome.total_weight\n",
    "    penalty_value = chromosome.total_value - min_v\n",
    "    penalties = 0\n",
    "    if penalty_weight < 0:\n",
    "        penalties = penalty_weight \n",
    "    if penalty_value < 0:\n",
    "        penalties = penalties + penalty_value \n",
    "    if penalties < 0 :\n",
    "        fitness = penalties\n",
    "    return fitness\n",
    "    \n"
   ]
  },
  {
   "cell_type": "markdown",
   "id": "25460c79-4b91-4df1-b8d4-9d9c7b9aec9c",
   "metadata": {},
   "source": [
    "#### Update Chromosomes Fitness'"
   ]
  },
  {
   "cell_type": "code",
   "execution_count": 16,
   "id": "52e42a7f-f374-4cf0-839c-922975edbdc2",
   "metadata": {},
   "outputs": [],
   "source": [
    "def update_fitness(population):\n",
    "    for chromosome in population:\n",
    "        chromosome.fitness = calculate_fitness(chromosome)\n",
    "    return population\n",
    "    "
   ]
  },
  {
   "cell_type": "code",
   "execution_count": 17,
   "id": "bf0133b2-2911-4c50-ab06-d86bc48901c2",
   "metadata": {},
   "outputs": [],
   "source": [
    "initial_population = update_fitness(initial_population)"
   ]
  },
  {
   "cell_type": "markdown",
   "id": "5ee4e554-afb7-4b4e-9f35-885ff8235c88",
   "metadata": {},
   "source": [
    "## Population compatibility:"
   ]
  },
  {
   "cell_type": "code",
   "execution_count": 18,
   "id": "a5b3f087-fed6-4896-b3ce-ca69451abd55",
   "metadata": {},
   "outputs": [],
   "source": [
    "def print_population_compatibility(population):\n",
    "    print(\"Population compatibility:\")\n",
    "    print(f\"Avg Fitness: {sum(c.fitness for c in population) / len(population)}\")\n",
    "    print(f\"Max Fitness: {max(c.fitness for c in population)}\")\n",
    "    print(f\"Avg Value per Weight: {sum(c.total_value / c.total_weight for c in population) / len(population)}\")\n",
    "    print(f\"Max Avg Value per Weight: {max(c.total_value / c.total_weight for c in population)}\")\n",
    "    print(\"--\" * 25)"
   ]
  },
  {
   "cell_type": "code",
   "execution_count": 19,
   "id": "32604e9e-f824-4a9d-9657-088941f0e31f",
   "metadata": {},
   "outputs": [
    {
     "name": "stdout",
     "output_type": "stream",
     "text": [
      "Population compatibility:\n",
      "Avg Fitness: -35.50522920376086\n",
      "Max Fitness: -11.660023078438233\n",
      "Avg Value per Weight: 0.9808586418162472\n",
      "Max Avg Value per Weight: 1.1666666666666667\n",
      "--------------------------------------------------\n"
     ]
    }
   ],
   "source": [
    "print_population_compatibility(initial_population)"
   ]
  },
  {
   "cell_type": "markdown",
   "id": "5320315f-9722-44a3-9d75-552e670ac438",
   "metadata": {},
   "source": [
    "## find winner"
   ]
  },
  {
   "cell_type": "code",
   "execution_count": 20,
   "id": "821bb7ef-06c8-404c-94a3-13c5609bffd9",
   "metadata": {},
   "outputs": [],
   "source": [
    "def find_winner(population):\n",
    "    max_fitness = float('-inf')\n",
    "    winner = population[0];\n",
    "    for chromosome in population:\n",
    "        if (chromosome.fitness > max_fitness):\n",
    "            max_fitness = chromosome.fitness\n",
    "            winner = chromosome\n",
    "    return winner"
   ]
  },
  {
   "cell_type": "code",
   "execution_count": 21,
   "id": "9cf3aa90-f427-44be-830a-952bfdf9f483",
   "metadata": {},
   "outputs": [],
   "source": [
    "def check_for_answer(population):\n",
    "    winner = find_winner(population)\n",
    "    if winner.fitness >= min_v:\n",
    "        return winner\n",
    "    return None"
   ]
  },
  {
   "cell_type": "code",
   "execution_count": 22,
   "id": "4efdf276-bd77-4d43-b53a-df6382823f70",
   "metadata": {},
   "outputs": [],
   "source": [
    "def print_winner(winner):\n",
    "    for Gene in winner.genes:\n",
    "        print(f\"{Gene.name}: {Gene.weight}\")\n",
    "    print(f\"Total Weight: {winner.total_weight}\")\n",
    "    print(f\"Total Value: {winner.total_value}\")"
   ]
  },
  {
   "cell_type": "markdown",
   "id": "ef45381b-a95c-4af1-beed-a585b307c9b0",
   "metadata": {},
   "source": [
    "# Part four: Generating a new generation"
   ]
  },
  {
   "cell_type": "markdown",
   "id": "232f3b80-2bc9-41fa-8a09-ddf13b200dfe",
   "metadata": {},
   "source": [
    "## Crossover:"
   ]
  },
  {
   "cell_type": "markdown",
   "id": "5013aa48-a48d-49dc-8e1a-02793ee707cf",
   "metadata": {},
   "source": [
    "#### Probability:"
   ]
  },
  {
   "cell_type": "code",
   "execution_count": 23,
   "id": "abc87751-c80e-4a9e-a7ca-ff7df747676c",
   "metadata": {},
   "outputs": [],
   "source": [
    "prop_c = 0.3\n",
    "def decide_with_probability(p, thing1, thing2):\n",
    "    if random.random() < p:\n",
    "        return thing1\n",
    "    else:\n",
    "        return thing2"
   ]
  },
  {
   "cell_type": "markdown",
   "id": "0f932bfe-eb69-41a6-bca7-df65aadc527d",
   "metadata": {
    "jp-MarkdownHeadingCollapsed": true
   },
   "source": [
    "#### Crossover Function:"
   ]
  },
  {
   "cell_type": "code",
   "execution_count": 24,
   "id": "485a8397-f67e-4bfd-90d9-9aa80071d93e",
   "metadata": {},
   "outputs": [],
   "source": [
    "def crossover(prob , parent1, parent2, min_n, max_n):\n",
    "    x = min(len(parent1.genes), len(parent2.genes)) - 1\n",
    "    if x <= 1:\n",
    "        return [parent1, parent2]\n",
    "    cross_point =  random.randint(1, x)\n",
    "    offspring_genes = parent1.genes + parent2.genes\n",
    "\n",
    "    counter = 0\n",
    "    def remove_dupplicate(objects1, objects2, counter):\n",
    "        def has_duplicate(objects):\n",
    "            seen_names = set()\n",
    "            for obj in objects:\n",
    "                obj_name = obj.name\n",
    "                if obj_name in seen_names:\n",
    "                    return obj\n",
    "                seen_names.add(obj_name)\n",
    "            return None\n",
    "\n",
    "        while True and counter < 10000:\n",
    "            counter = counter + 1\n",
    "            dup1 = has_duplicate(objects1.genes)\n",
    "            dup2 = has_duplicate(objects2.genes)\n",
    "            if dup1 != None:\n",
    "                if dup2 != None:\n",
    "                    index1 = objects1.genes.index(dup1)\n",
    "                    index2 = objects2.genes.index(dup2)\n",
    "                    objects1.genes.pop(index1)\n",
    "                    objects2.genes.pop(index2)\n",
    "                    objects1.genes.append(dup2)\n",
    "                    objects2.genes.append(dup1)\n",
    "                else :\n",
    "                    index1 = objects1.genes.index(dup1)\n",
    "                    objects1.genes.pop(index1)\n",
    "                    new = objects2.genes.pop()\n",
    "                    objects1.genes.append(new)\n",
    "                    objects2.genes.append(dup1)\n",
    "                    \n",
    "            elif dup2 != None:\n",
    "                    index2 = objects2.genes.index(dup2)\n",
    "                    objects2.genes.pop(index2)\n",
    "                    new = objects1.genes.pop()\n",
    "                    objects2.genes.append(new)\n",
    "                    objects1.genes.append(dup2)\n",
    "            else:\n",
    "                    break;\n",
    "        return [objects1, objects2], counter \n",
    "                \n",
    "    offspring1_genes = parent1.genes[:cross_point] + parent2.genes[cross_point:]\n",
    "    offspring2_genes = parent2.genes[:cross_point] + parent1.genes[cross_point:]\n",
    "    \n",
    "    child1 = Chromosome(offspring1_genes, False);\n",
    "    child2 = Chromosome(offspring2_genes, False);\n",
    "\n",
    "    [child1, child2] , counter = remove_dupplicate(child1, child2, counter)\n",
    "    if counter == 10000: \n",
    "        return  [parent1, parent2]\n",
    "        \n",
    "    def select_new_generation(prob, child1, child2, parent1, parent2):\n",
    "        if (max_w - child1.total_weight - child2.total_weight > max_w - parent1.total_weight - parent2.total_weight):    \n",
    "            return decide_with_probability(prob,  [parent1, parent2],  [child1, child2])            \n",
    "        return decide_with_probability(prob, [child1, child2], [parent1, parent2])\n",
    "\n",
    "    return select_new_generation(prob, child1, child2, parent1, parent2)\n",
    "    \n",
    "\n",
    "def generate_new_population_crossover(prob, population):\n",
    "    np.random.shuffle(population)\n",
    "    new_population = []\n",
    "    for i  in range(0, round((population_size)/2)):\n",
    "        parent1 = population[i]\n",
    "        parent2 = population[-i]\n",
    "        new_generation = crossover(prob , parent1, parent2, min_n, max_n)\n",
    "        new_population.append(new_generation[0])\n",
    "        new_population.append(new_generation[1])\n",
    "    return new_population\n",
    "\n",
    "\n"
   ]
  },
  {
   "cell_type": "markdown",
   "id": "6be75c6f-f2dc-4a61-b2f2-a2d57474b194",
   "metadata": {},
   "source": [
    "## Mutation:"
   ]
  },
  {
   "cell_type": "code",
   "execution_count": 25,
   "id": "095c3d03-2a31-4172-8661-c8bd5651a144",
   "metadata": {},
   "outputs": [],
   "source": [
    "\n",
    "def mutation(prob_m, population):\n",
    "    np.random.shuffle(population)\n",
    "    new_population = []\n",
    "    for i  in range(0, population_size - 1):\n",
    "        parent = population[i]\n",
    "        genes = []\n",
    "        for g in parent.genes:\n",
    "            genes.append(g)\n",
    "\n",
    "        genes.sort(key=lambda x: x.value_per_weight)\n",
    "\n",
    "        pre_gene = genes.pop(0)\n",
    "\n",
    "        sorted_genes = gene_objects\n",
    "        sorted_genes.sort(key=lambda x: x.value_per_weight, reverse=True)\n",
    "\n",
    "        new_gene = pre_gene\n",
    "\n",
    "        flag1 = False \n",
    "        flag2 = True\n",
    "        for g in sorted_genes:\n",
    "            if pre_gene.name == g.name:\n",
    "                if parent.variety_of_snacks > min_n:\n",
    "                    if pre_gene.weight == pre_gene.max_weight: \n",
    "                        flag1 = True \n",
    "                if parent.variety_of_snacks < max_n:\n",
    "                    if pre_gene.weight == pre_gene.max_weight: \n",
    "                        flag2 = True     \n",
    "                break\n",
    "            if any(x.name == g.name for x in genes) == True:\n",
    "                continue\n",
    "            else:\n",
    "                new_gene = g\n",
    "                break\n",
    "\n",
    "       \n",
    "        if flag1:\n",
    "            if random.random() > 0.5:\n",
    "                genes.append(new_gene)\n",
    "        else: \n",
    "            genes.append(new_gene)\n",
    "            \n",
    "        if flag2 and flag1 == False:\n",
    "            not_in_parent = [obj for obj in sorted_genes if obj.name not in [objj.name for objj in parent.genes]]\n",
    "            if random.random() > 0.5 and len(not_in_parent) != 0:\n",
    "                new_new = random.choice(not_in_parent)\n",
    "                new_new.weight = random.uniform(0, new_new.max_weight)\n",
    "                genes.append(new_new)\n",
    "                \n",
    "        if len(genes) == 0:\n",
    "            return population\n",
    "\n",
    "        for g in genes:\n",
    "            if g.name == new_gene.name:\n",
    "                g.weight = g.max_weight\n",
    "                break\n",
    "     \n",
    "        child = Chromosome(genes, False)\n",
    "        #print(f\"parent: {parent}\")\n",
    "        #print (f\"child: {child}\")\n",
    "        #print(\"__\" * 10)\n",
    "\n",
    "        genes.clear()\n",
    "        \n",
    "        new_generation = decide_with_probability(prob_m, parent, child)\n",
    "        new_population.append(new_generation)\n",
    "    return new_population"
   ]
  },
  {
   "cell_type": "markdown",
   "id": "96049e19-667e-40bd-b9f6-b41dc54ed479",
   "metadata": {},
   "source": [
    "# Part five: Creating a Genetic Algorithm on the Problem"
   ]
  },
  {
   "cell_type": "markdown",
   "id": "1741d8d9-f9a3-42ad-9554-8adaa7b0a86e",
   "metadata": {},
   "source": [
    "## Algorithm:"
   ]
  },
  {
   "cell_type": "code",
   "execution_count": 49,
   "id": "60fe8ea6-51cd-4cf0-919e-a1713080d50f",
   "metadata": {},
   "outputs": [
    {
     "name": "stdout",
     "output_type": "stream",
     "text": [
      "OK\n"
     ]
    }
   ],
   "source": [
    "population = initial_population\n",
    "\n",
    "winner = check_for_answer(initial_population)\n",
    "counter = 0\n",
    "cur_fit = sum(c.fitness for c in population) / len(population)\n",
    "value_per_weight = sum(c.total_value / c.total_weight for c in population) / len(population)\n",
    "\n",
    "fitness_arr = []\n",
    "val_weight_arr = []\n",
    "\n",
    "while winner == None and counter < max_run:\n",
    "    fitness_arr.append(cur_fit)\n",
    "    val_weight_arr.append(value_per_weight)   \n",
    "    counter = counter + 1\n",
    "    prob_m = min (1 / (counter + 1), 2 /max_run)\n",
    "    new_population = population\n",
    "    new_population = generate_new_population_crossover(prop_c, population)\n",
    "    new_population = mutation(prob_m, new_population)\n",
    "    population = update_fitness(new_population)\n",
    "    cur_fit = sum(c.fitness for c in population)/ len(population)\n",
    "    value_per_weight = sum(c.total_value / c.total_weight for c in population) / len(population)\n",
    "    winner =check_for_answer(population)\n",
    "     \n",
    "if winner != None:\n",
    "    print(\"OK\")"
   ]
  },
  {
   "cell_type": "markdown",
   "id": "fed5e069-842c-498a-8b67-d4d4086b54b2",
   "metadata": {},
   "source": [
    "# Part six: Evaluation of Results"
   ]
  },
  {
   "cell_type": "code",
   "execution_count": 50,
   "id": "2beaacab-dc0f-4788-a2c3-ed3f1e15f842",
   "metadata": {},
   "outputs": [
    {
     "name": "stdout",
     "output_type": "stream",
     "text": [
      "Ghottab: 1.5787966329712106\n",
      "Jooj: 7\n",
      "Pastil: 3\n",
      "Total Weight: 11.57879663297121\n",
      "Total Value: 24.255423761387444\n"
     ]
    }
   ],
   "source": [
    "if winner != None:\n",
    "    print_winner(winner)\n",
    "else: \n",
    "    print(\"No answer found:\\n\")\n",
    "    \n",
    "    print(\"The best possible answer: \")\n",
    "    print(find_winner(population))"
   ]
  },
  {
   "cell_type": "code",
   "execution_count": 51,
   "id": "f029db2e-3144-40fc-80f7-644787efe9ae",
   "metadata": {},
   "outputs": [],
   "source": [
    "def print_details(val_weight_arr, fitness_arr):\n",
    "    for i in range(1, len(fitness_arr)):\n",
    "        print(f\"i: {i}\")\n",
    "        print(f\"current fitness: {fitness_arr[i]},pre fitness: {fitness_arr[i - 1]}\")\n",
    "        print(\"_\" * 50)"
   ]
  },
  {
   "cell_type": "code",
   "execution_count": 52,
   "id": "e9a4c36d-0da4-42ae-99e6-f5e62ab919c8",
   "metadata": {},
   "outputs": [],
   "source": [
    "def plot_detail(y, title, axes, i):\n",
    "    x = [i for i in range(0, len(y))]\n",
    "    axes[i].set_title(title)\n",
    "    axes[i].plot(x,y)\n",
    "\n",
    "def plot_details(val_weight_arr, fitness_arr):\n",
    "    fig, axes = plt.subplots(nrows=1, ncols=2, figsize=(10, 4))\n",
    "    plot_detail(fitness_arr, \"Avg Fitness\", axes, 0)\n",
    "    plot_detail(val_weight_arr, \"Avg Value Per Weight\", axes, 1)\n",
    "    fig.tight_layout()\n",
    "    plt.show()"
   ]
  },
  {
   "cell_type": "code",
   "execution_count": 53,
   "id": "4505b533-07cb-42cc-902a-e1c0fee8cce0",
   "metadata": {},
   "outputs": [
    {
     "name": "stdout",
     "output_type": "stream",
     "text": [
      "#run = 20\n"
     ]
    },
    {
     "data": {
      "image/png": "[encoded data removed]",
      "text/plain": [
       "<Figure size 1000x400 with 2 Axes>"
      ]
     },
     "metadata": {},
     "output_type": "display_data"
    }
   ],
   "source": [
    "print(f\"#run = {counter}\")\n",
    "plot_details(val_weight_arr, fitness_arr)\n"
   ]
  },
  {
   "cell_type": "code",
   "execution_count": 54,
   "id": "bcaa408c-78dc-4f37-b5e0-3a2937a25c6b",
   "metadata": {},
   "outputs": [
    {
     "name": "stdout",
     "output_type": "stream",
     "text": [
      "Population compatibility:\n",
      "Avg Fitness: -24.50099132100658\n",
      "Max Fitness: 24.255423761387444\n",
      "Avg Value per Weight: 1.5708330745626633\n",
      "Max Avg Value per Weight: 2.3333333333333335\n",
      "--------------------------------------------------\n"
     ]
    }
   ],
   "source": [
    "print_population_compatibility(population)"
   ]
  },
  {
   "cell_type": "code",
   "execution_count": 55,
   "id": "cd0b72ef-b2cb-4934-ba43-561481bc107d",
   "metadata": {},
   "outputs": [
    {
     "name": "stdout",
     "output_type": "stream",
     "text": [
      "i: 1\n",
      "current fitness: -34.66006717973688,pre fitness: -35.50522920376086\n",
      "__________________________________________________\n",
      "i: 2\n",
      "current fitness: -38.80900800105074,pre fitness: -34.66006717973688\n",
      "__________________________________________________\n",
      "i: 3\n",
      "current fitness: -39.59734385158601,pre fitness: -38.80900800105074\n",
      "__________________________________________________\n",
      "i: 4\n",
      "current fitness: -42.55125033726103,pre fitness: -39.59734385158601\n",
      "__________________________________________________\n",
      "i: 5\n",
      "current fitness: -48.93725515624274,pre fitness: -42.55125033726103\n",
      "__________________________________________________\n",
      "i: 6\n",
      "current fitness: -48.13357204725149,pre fitness: -48.93725515624274\n",
      "__________________________________________________\n",
      "i: 7\n",
      "current fitness: -49.210876858910055,pre fitness: -48.13357204725149\n",
      "__________________________________________________\n",
      "i: 8\n",
      "current fitness: -48.03621725114136,pre fitness: -49.210876858910055\n",
      "__________________________________________________\n",
      "i: 9\n",
      "current fitness: -49.4022148119353,pre fitness: -48.03621725114136\n",
      "__________________________________________________\n",
      "i: 10\n",
      "current fitness: -43.86599166565154,pre fitness: -49.4022148119353\n",
      "__________________________________________________\n",
      "i: 11\n",
      "current fitness: -43.94951455686976,pre fitness: -43.86599166565154\n",
      "__________________________________________________\n",
      "i: 12\n",
      "current fitness: -44.96192294612234,pre fitness: -43.94951455686976\n",
      "__________________________________________________\n",
      "i: 13\n",
      "current fitness: -44.586130613350626,pre fitness: -44.96192294612234\n",
      "__________________________________________________\n",
      "i: 14\n",
      "current fitness: -42.37901089091647,pre fitness: -44.586130613350626\n",
      "__________________________________________________\n",
      "i: 15\n",
      "current fitness: -37.58522546943954,pre fitness: -42.37901089091647\n",
      "__________________________________________________\n",
      "i: 16\n",
      "current fitness: -31.2905440781696,pre fitness: -37.58522546943954\n",
      "__________________________________________________\n",
      "i: 17\n",
      "current fitness: -29.9919627739174,pre fitness: -31.2905440781696\n",
      "__________________________________________________\n",
      "i: 18\n",
      "current fitness: -25.539378568892026,pre fitness: -29.9919627739174\n",
      "__________________________________________________\n",
      "i: 19\n",
      "current fitness: -26.101342350460758,pre fitness: -25.539378568892026\n",
      "__________________________________________________\n"
     ]
    }
   ],
   "source": [
    "print_details(val_weight_arr, fitness_arr)"
   ]
  },
  {
   "cell_type": "code",
   "execution_count": null,
   "id": "bece0bda-0d7a-480b-9869-50e58146aeba",
   "metadata": {},
   "outputs": [],
   "source": []
  },
  {
   "cell_type": "code",
   "execution_count": null,
   "id": "2fa79045-9833-4085-9649-6bebdd433cb5",
   "metadata": {},
   "outputs": [],
   "source": []
  }
 ],
 "metadata": {
  "kernelspec": {
   "display_name": "Python 3 (ipykernel)",
   "language": "python",
   "name": "python3"
  },
  "language_info": {
   "codemirror_mode": {
    "name": "ipython",
    "version": 3
   },
   "file_extension": ".py",
   "mimetype": "text/x-python",
   "name": "python",
   "nbconvert_exporter": "python",
   "pygments_lexer": "ipython3",
   "version": "3.12.2"
  }
 },
 "nbformat": 4,
 "nbformat_minor": 5
}
