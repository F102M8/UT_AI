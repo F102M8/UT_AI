{
 "cells": [
  {
   "cell_type": "markdown",
   "id": "f0ac5ce6-045d-4644-b225-ffcd1aba1bdb",
   "metadata": {},
   "source": [
    "# Import libraries:"
   ]
  },
  {
   "cell_type": "code",
   "execution_count": 1,
   "id": "db062f08-1060-4e3b-9494-9c36a9a8a237",
   "metadata": {},
   "outputs": [],
   "source": [
    "import pandas as pd\n",
    "import numpy as np\n",
    "import random as random\n",
    "import matplotlib.pyplot as plt"
   ]
  },
  {
   "cell_type": "markdown",
   "id": "7b3d0998-8ef9-4ab3-87f8-8a56c4f10d37",
   "metadata": {},
   "source": [
    "# Get inputs:"
   ]
  },
  {
   "cell_type": "code",
   "execution_count": 2,
   "id": "89d4dd63-86d5-46f3-9a6a-0bd523c4da77",
   "metadata": {},
   "outputs": [
    {
     "name": "stdin",
     "output_type": "stream",
     "text": [
      "Enter the minimum value (min_v) you want to achieve:  22\n",
      "Enter the maximum weight (max_w) allowed:  9\n",
      "Enter the minimum number of snack types (min_n):  1\n",
      "Enter the maximum number of snack types (max_n):  5\n"
     ]
    }
   ],
   "source": [
    "min_v = float(input(\"Enter the minimum value (min_v) you want to achieve: \"))\n",
    "max_w = float(input(\"Enter the maximum weight (max_w) allowed: \"))\n",
    "\n",
    "min_n = int(input(\"Enter the minimum number of snack types (min_n): \"))\n",
    "max_n = int(input(\"Enter the maximum number of snack types (max_n): \"))\n"
   ]
  },
  {
   "cell_type": "code",
   "execution_count": 3,
   "id": "8324746b-71b4-452c-ad63-b851b305aee0",
   "metadata": {},
   "outputs": [
    {
     "name": "stdin",
     "output_type": "stream",
     "text": [
      "Enter population size:  20\n"
     ]
    }
   ],
   "source": [
    "population_size = int(input(\"Enter population size: \"))"
   ]
  },
  {
   "cell_type": "code",
   "execution_count": 4,
   "id": "c7c1030c-348b-4309-9e43-63f2e02f138d",
   "metadata": {},
   "outputs": [
    {
     "name": "stdin",
     "output_type": "stream",
     "text": [
      " 100\n"
     ]
    }
   ],
   "source": [
    "max_run = int(input())"
   ]
  },
  {
   "cell_type": "markdown",
   "id": "d82c16c9-5e63-4746-8bbd-927d082cb74b",
   "metadata": {},
   "source": [
    "# read CSV file and save to Data Frame:"
   ]
  },
  {
   "cell_type": "code",
   "execution_count": 5,
   "id": "6040ee24-6a1f-4430-b4fa-71384d3291ba",
   "metadata": {},
   "outputs": [],
   "source": [
    "\n",
    "file_path = 'snacks.csv'\n",
    "df = pd.read_csv(file_path)\n"
   ]
  },
  {
   "cell_type": "code",
   "execution_count": 6,
   "id": "8c22aa7a-33c2-4367-af76-4dde0e3a2165",
   "metadata": {},
   "outputs": [
    {
     "name": "stdout",
     "output_type": "stream",
     "text": [
      "            Snack  Available Weight  Value\n",
      "0          MazMaz                10     10\n",
      "1   Doogh-e-Abali                15     10\n",
      "2            Nani                 5      5\n",
      "3            Jooj                 7     15\n",
      "4         Hot-Dog                20     15\n",
      "5           Chips                 8      6\n",
      "6        Nooshaba                12      8\n",
      "7        Shokolat                 6      7\n",
      "8       Chocoroll                 9     12\n",
      "9         Cookies                11     11\n",
      "10        Abnabat                 4      4\n",
      "11   Adams-Khersi                14      9\n",
      "12        Popcorn                16     13\n",
      "13         Pastil                 3      7\n",
      "14       Tordilla                10      9\n",
      "15       Masghati                 5      6\n",
      "16        Ghottab                 7     10\n",
      "17   Saghe-Talaei                 9     11\n",
      "18    Choob-Shoor                13     12\n"
     ]
    }
   ],
   "source": [
    "print(df)"
   ]
  },
  {
   "cell_type": "markdown",
   "id": "5ceecdba-8dea-4150-b310-fecc1133dd91",
   "metadata": {},
   "source": [
    "# Part One: Defining Basic Concepts"
   ]
  },
  {
   "cell_type": "markdown",
   "id": "376878ef-eba3-46e1-8188-693a2ec167b4",
   "metadata": {},
   "source": [
    "## Gene:"
   ]
  },
  {
   "cell_type": "code",
   "execution_count": 7,
   "id": "e42a2d83-77b8-4c96-ba2e-6bd70c41f34d",
   "metadata": {},
   "outputs": [],
   "source": [
    "#Gene:\n",
    "class Gene:\n",
    "    def __init__(self, name, max_weight, value_per_weight, weight = 0):\n",
    "        self.name = name\n",
    "        self.max_weight = max_weight\n",
    "        self.weight = weight\n",
    "        self.value_per_weight = value_per_weight\n",
    "        \n",
    "    def __repr__(self):\n",
    "        return f\"Gene(name={self.name}, weight={self.weight}, max_weight={self.max_weight}, value_per_weight={self.value_per_weight})\\n\"\n",
    "\n",
    "    def __str__(self):\n",
    "        return f\"{self.name}: Weight={self.weight}, Value per Weight={self.value_per_weight}\"\n"
   ]
  },
  {
   "cell_type": "markdown",
   "id": "1ab73bd3-0b40-4ddb-ada2-cf55ac14dfcc",
   "metadata": {},
   "source": [
    "## Chromosome:"
   ]
  },
  {
   "cell_type": "code",
   "execution_count": 8,
   "id": "116db1e8-5b62-4d5c-a6c4-fa5a091f474f",
   "metadata": {},
   "outputs": [],
   "source": [
    "class Chromosome:\n",
    "    def __init__(self, geness, new_born = False):\n",
    "        self.genes_temp = geness\n",
    "        self.genes = []\n",
    "        for g in self.genes_temp:\n",
    "            self.genes.append(Gene(g.name, g.max_weight, g.value_per_weight, g.weight))\n",
    "        if (new_born == True):\n",
    "            for gene in self.genes:\n",
    "                gene.weight = random.uniform(0, gene.max_weight)\n",
    "        self.genes.sort(key=lambda x: x.name)\n",
    "        self.total_weight = sum(gene.weight for gene in self.genes)\n",
    "        self.total_value = sum(gene.weight * gene.value_per_weight for gene in self.genes)\n",
    "        self.variety_of_snacks = len(self.genes)\n",
    "        self.fitness = 0 \n",
    "         \n",
    "    \n",
    "    def __repr__(self):\n",
    "        return f\"\\nChromosome(genes=\\n{self.genes}, fitness={self.fitness}) \\nTotal Weight: {self.total_weight}\\nTotal Value: { self.total_value}\\nRange: {self.variety_of_snacks}\\n\"\n",
    "        \n",
    "    def __str__(self):\n",
    "        genes_str = '\\n'.join(str(gene) for gene in self.genes)\n",
    "        return f\"\\nChromosome Details:\\nGenes:\\n{genes_str}\\nFitness: {self.fitness} \\nTotal Weight: {self.total_weight}\\nTotal Value: { self.total_value}\\nRange: {self.variety_of_snacks}\\n\"\n",
    "        \n",
    "\n"
   ]
  },
  {
   "cell_type": "markdown",
   "id": "a5fbd171-075d-45ab-9270-9926619b85f6",
   "metadata": {},
   "source": [
    "## Genes pool:"
   ]
  },
  {
   "cell_type": "code",
   "execution_count": 9,
   "id": "821fb9a0-bece-4467-84be-dd887a03714d",
   "metadata": {},
   "outputs": [],
   "source": [
    "\n",
    "genes_pool = df.copy()\n",
    "genes_pool.rename(columns={'Snack': 'Name'}, inplace=True)\n",
    "genes_pool.rename(columns={'Available Weight': 'Maximum Weight'}, inplace=True)\n",
    "genes_pool['Value per Weight'] = genes_pool['Value'] / genes_pool['Maximum Weight']\n",
    "genes_pool = genes_pool[['Name', 'Maximum Weight', 'Value per Weight']]\n",
    "\n",
    "gene_objects = [Gene(row['Name'], row['Maximum Weight'], row['Value per Weight']) for index, row in genes_pool.iterrows()]\n"
   ]
  },
  {
   "cell_type": "code",
   "execution_count": 10,
   "id": "6f7d88fb-141f-49dd-859f-05bb7b79bfea",
   "metadata": {},
   "outputs": [
    {
     "name": "stdout",
     "output_type": "stream",
     "text": [
      "             Name  Maximum Weight  Value per Weight\n",
      "0          MazMaz              10          1.000000\n",
      "1   Doogh-e-Abali              15          0.666667\n",
      "2            Nani               5          1.000000\n",
      "3            Jooj               7          2.142857\n",
      "4         Hot-Dog              20          0.750000\n",
      "5           Chips               8          0.750000\n",
      "6        Nooshaba              12          0.666667\n",
      "7        Shokolat               6          1.166667\n",
      "8       Chocoroll               9          1.333333\n",
      "9         Cookies              11          1.000000\n",
      "10        Abnabat               4          1.000000\n",
      "11   Adams-Khersi              14          0.642857\n",
      "12        Popcorn              16          0.812500\n",
      "13         Pastil               3          2.333333\n",
      "14       Tordilla              10          0.900000\n",
      "15       Masghati               5          1.200000\n",
      "16        Ghottab               7          1.428571\n",
      "17   Saghe-Talaei               9          1.222222\n",
      "18    Choob-Shoor              13          0.923077\n"
     ]
    }
   ],
   "source": [
    "print(genes_pool)"
   ]
  },
  {
   "cell_type": "code",
   "execution_count": 11,
   "id": "0bd82c1a-9815-46a0-baac-841044e731ac",
   "metadata": {},
   "outputs": [
    {
     "name": "stdout",
     "output_type": "stream",
     "text": [
      "[Gene(name=MazMaz, weight=0, max_weight=10, value_per_weight=1.0)\n",
      ", Gene(name=Doogh-e-Abali, weight=0, max_weight=15, value_per_weight=0.6666666666666666)\n",
      ", Gene(name=Nani, weight=0, max_weight=5, value_per_weight=1.0)\n",
      ", Gene(name=Jooj, weight=0, max_weight=7, value_per_weight=2.142857142857143)\n",
      ", Gene(name=Hot-Dog, weight=0, max_weight=20, value_per_weight=0.75)\n",
      ", Gene(name=Chips, weight=0, max_weight=8, value_per_weight=0.75)\n",
      ", Gene(name=Nooshaba, weight=0, max_weight=12, value_per_weight=0.6666666666666666)\n",
      ", Gene(name=Shokolat, weight=0, max_weight=6, value_per_weight=1.1666666666666667)\n",
      ", Gene(name=Chocoroll, weight=0, max_weight=9, value_per_weight=1.3333333333333333)\n",
      ", Gene(name=Cookies, weight=0, max_weight=11, value_per_weight=1.0)\n",
      ", Gene(name=Abnabat, weight=0, max_weight=4, value_per_weight=1.0)\n",
      ", Gene(name=Adams-Khersi, weight=0, max_weight=14, value_per_weight=0.6428571428571429)\n",
      ", Gene(name=Popcorn, weight=0, max_weight=16, value_per_weight=0.8125)\n",
      ", Gene(name=Pastil, weight=0, max_weight=3, value_per_weight=2.3333333333333335)\n",
      ", Gene(name=Tordilla, weight=0, max_weight=10, value_per_weight=0.9)\n",
      ", Gene(name=Masghati, weight=0, max_weight=5, value_per_weight=1.2)\n",
      ", Gene(name=Ghottab, weight=0, max_weight=7, value_per_weight=1.4285714285714286)\n",
      ", Gene(name=Saghe-Talaei, weight=0, max_weight=9, value_per_weight=1.2222222222222223)\n",
      ", Gene(name=Choob-Shoor, weight=0, max_weight=13, value_per_weight=0.9230769230769231)\n",
      "]\n"
     ]
    }
   ],
   "source": [
    "print(gene_objects)"
   ]
  },
  {
   "cell_type": "markdown",
   "id": "6c2c8a3e-7778-48db-8b8a-d80208616cdc",
   "metadata": {},
   "source": [
    "# Part Two: Primary population production"
   ]
  },
  {
   "cell_type": "code",
   "execution_count": 12,
   "id": "93b2da47-058d-4c0e-8a90-2119142f0f7c",
   "metadata": {},
   "outputs": [],
   "source": [
    "initial_population = []\n",
    "for _ in range(population_size):\n",
    "    x = random.randint(min_n, max_n)\n",
    "    genes_temp = random.sample(gene_objects, x)\n",
    "    c = Chromosome(genes_temp, True)\n",
    "    initial_population.append(c)\n",
    "    c = None\n"
   ]
  },
  {
   "cell_type": "code",
   "execution_count": 13,
   "id": "399225f6-803e-4996-b380-89507c5bf6ff",
   "metadata": {},
   "outputs": [
    {
     "data": {
      "text/plain": [
       "[\n",
       " Chromosome(genes=\n",
       " [Gene(name=Doogh-e-Abali, weight=2.8957685616556468, max_weight=15, value_per_weight=0.6666666666666666)\n",
       " , Gene(name=Pastil, weight=0.014644004149446332, max_weight=3, value_per_weight=2.3333333333333335)\n",
       " ], fitness=0) \n",
       " Total Weight: 2.910412565805093\n",
       " Total Value: 1.9646817174524727\n",
       " Range: 2,\n",
       " \n",
       " Chromosome(genes=\n",
       " [Gene(name=Adams-Khersi, weight=11.649765280470898, max_weight=14, value_per_weight=0.6428571428571429)\n",
       " , Gene(name=Ghottab, weight=6.719772460773587, max_weight=7, value_per_weight=1.4285714285714286)\n",
       " , Gene(name=MazMaz, weight=4.5988373410534695, max_weight=10, value_per_weight=1.0)\n",
       " , Gene(name=Nani, weight=1.3001293688878683, max_weight=5, value_per_weight=1.0)\n",
       " , Gene(name=Popcorn, weight=1.6110577164601985, max_weight=16, value_per_weight=0.8125)\n",
       " ], fitness=0) \n",
       " Total Weight: 25.87956216764602\n",
       " Total Value: 24.29676087168738\n",
       " Range: 5,\n",
       " \n",
       " Chromosome(genes=\n",
       " [Gene(name=Hot-Dog, weight=8.61201225749891, max_weight=20, value_per_weight=0.75)\n",
       " , Gene(name=MazMaz, weight=9.81232145428634, max_weight=10, value_per_weight=1.0)\n",
       " ], fitness=0) \n",
       " Total Weight: 18.424333711785252\n",
       " Total Value: 16.271330647410522\n",
       " Range: 2,\n",
       " \n",
       " Chromosome(genes=\n",
       " [Gene(name=Ghottab, weight=6.81185817851483, max_weight=7, value_per_weight=1.4285714285714286)\n",
       " ], fitness=0) \n",
       " Total Weight: 6.81185817851483\n",
       " Total Value: 9.731225969306902\n",
       " Range: 1,\n",
       " \n",
       " Chromosome(genes=\n",
       " [Gene(name=Ghottab, weight=5.865444683262042, max_weight=7, value_per_weight=1.4285714285714286)\n",
       " ], fitness=0) \n",
       " Total Weight: 5.865444683262042\n",
       " Total Value: 8.379206690374346\n",
       " Range: 1,\n",
       " \n",
       " Chromosome(genes=\n",
       " [Gene(name=Doogh-e-Abali, weight=6.68438714125348, max_weight=15, value_per_weight=0.6666666666666666)\n",
       " , Gene(name=Popcorn, weight=12.536955286072576, max_weight=16, value_per_weight=0.8125)\n",
       " ], fitness=0) \n",
       " Total Weight: 19.221342427326057\n",
       " Total Value: 14.642534264102956\n",
       " Range: 2,\n",
       " \n",
       " Chromosome(genes=\n",
       " [Gene(name=Abnabat, weight=0.5256646938120113, max_weight=4, value_per_weight=1.0)\n",
       " , Gene(name=Adams-Khersi, weight=10.017025673020171, max_weight=14, value_per_weight=0.6428571428571429)\n",
       " , Gene(name=Ghottab, weight=0.9331172854503583, max_weight=7, value_per_weight=1.4285714285714286)\n",
       " , Gene(name=Masghati, weight=1.2213281977153656, max_weight=5, value_per_weight=1.2)\n",
       " , Gene(name=Nooshaba, weight=2.6133753366767962, max_weight=12, value_per_weight=0.6666666666666666)\n",
       " ], fitness=0) \n",
       " Total Weight: 15.310511186674702\n",
       " Total Value: 11.506049953106556\n",
       " Range: 5,\n",
       " \n",
       " Chromosome(genes=\n",
       " [Gene(name=Jooj, weight=2.279178158375331, max_weight=7, value_per_weight=2.142857142857143)\n",
       " , Gene(name=Masghati, weight=4.002545633104006, max_weight=5, value_per_weight=1.2)\n",
       " ], fitness=0) \n",
       " Total Weight: 6.281723791479337\n",
       " Total Value: 9.687007956243374\n",
       " Range: 2,\n",
       " \n",
       " Chromosome(genes=\n",
       " [Gene(name=Chocoroll, weight=0.11315280828235053, max_weight=9, value_per_weight=1.3333333333333333)\n",
       " , Gene(name=Masghati, weight=3.7242427471318296, max_weight=5, value_per_weight=1.2)\n",
       " , Gene(name=Saghe-Talaei, weight=8.950233698416453, max_weight=9, value_per_weight=1.2222222222222223)\n",
       " ], fitness=0) \n",
       " Total Weight: 12.787629253830632\n",
       " Total Value: 15.559136227888107\n",
       " Range: 3,\n",
       " \n",
       " Chromosome(genes=\n",
       " [Gene(name=Abnabat, weight=3.8618889324486263, max_weight=4, value_per_weight=1.0)\n",
       " , Gene(name=Adams-Khersi, weight=4.97099777050333, max_weight=14, value_per_weight=0.6428571428571429)\n",
       " , Gene(name=Cookies, weight=0.0470896717542314, max_weight=11, value_per_weight=1.0)\n",
       " , Gene(name=Nani, weight=1.9855200536114253, max_weight=5, value_per_weight=1.0)\n",
       " ], fitness=0) \n",
       " Total Weight: 10.865496428317613\n",
       " Total Value: 9.090140081709281\n",
       " Range: 4,\n",
       " \n",
       " Chromosome(genes=\n",
       " [Gene(name=Doogh-e-Abali, weight=1.2775267936187613, max_weight=15, value_per_weight=0.6666666666666666)\n",
       " , Gene(name=Ghottab, weight=2.030910171872578, max_weight=7, value_per_weight=1.4285714285714286)\n",
       " , Gene(name=Hot-Dog, weight=15.088529022279154, max_weight=20, value_per_weight=0.75)\n",
       " ], fitness=0) \n",
       " Total Weight: 18.396965987770493\n",
       " Total Value: 15.069381541320794\n",
       " Range: 3,\n",
       " \n",
       " Chromosome(genes=\n",
       " [Gene(name=Adams-Khersi, weight=6.544596783507865, max_weight=14, value_per_weight=0.6428571428571429)\n",
       " , Gene(name=MazMaz, weight=4.5143043012726185, max_weight=10, value_per_weight=1.0)\n",
       " , Gene(name=Tordilla, weight=8.62571395272667, max_weight=10, value_per_weight=0.9)\n",
       " ], fitness=0) \n",
       " Total Weight: 19.684615037507154\n",
       " Total Value: 16.484687648124535\n",
       " Range: 3,\n",
       " \n",
       " Chromosome(genes=\n",
       " [Gene(name=Choob-Shoor, weight=2.7260221036794317, max_weight=13, value_per_weight=0.9230769230769231)\n",
       " , Gene(name=Popcorn, weight=7.5152122509277905, max_weight=16, value_per_weight=0.8125)\n",
       " ], fitness=0) \n",
       " Total Weight: 10.241234354607222\n",
       " Total Value: 8.622438049582922\n",
       " Range: 2,\n",
       " \n",
       " Chromosome(genes=\n",
       " [Gene(name=Adams-Khersi, weight=8.268532386296915, max_weight=14, value_per_weight=0.6428571428571429)\n",
       " , Gene(name=Chocoroll, weight=1.7400858725588648, max_weight=9, value_per_weight=1.3333333333333333)\n",
       " , Gene(name=Shokolat, weight=4.89318323431008, max_weight=6, value_per_weight=1.1666666666666667)\n",
       " ], fitness=0) \n",
       " Total Weight: 14.90180149316586\n",
       " Total Value: 13.344313375583502\n",
       " Range: 3,\n",
       " \n",
       " Chromosome(genes=\n",
       " [Gene(name=Adams-Khersi, weight=5.970300662784428, max_weight=14, value_per_weight=0.6428571428571429)\n",
       " , Gene(name=Chocoroll, weight=0.3630412372986038, max_weight=9, value_per_weight=1.3333333333333333)\n",
       " , Gene(name=Choob-Shoor, weight=8.19452277699593, max_weight=13, value_per_weight=0.9230769230769231)\n",
       " , Gene(name=Doogh-e-Abali, weight=0.9430537200958944, max_weight=15, value_per_weight=0.6666666666666666)\n",
       " , Gene(name=Masghati, weight=3.3947463096725405, max_weight=5, value_per_weight=1.2)\n",
       " ], fitness=0) \n",
       " Total Weight: 18.865664706847397\n",
       " Total Value: 16.588678331884655\n",
       " Range: 5,\n",
       " \n",
       " Chromosome(genes=\n",
       " [Gene(name=Abnabat, weight=3.017290170524925, max_weight=4, value_per_weight=1.0)\n",
       " , Gene(name=Chocoroll, weight=5.126046864615039, max_weight=9, value_per_weight=1.3333333333333333)\n",
       " , Gene(name=Choob-Shoor, weight=4.69852685452351, max_weight=13, value_per_weight=0.9230769230769231)\n",
       " , Gene(name=Shokolat, weight=4.140799234510293, max_weight=6, value_per_weight=1.1666666666666667)\n",
       " , Gene(name=Tordilla, weight=7.999293794547978, max_weight=10, value_per_weight=0.9)\n",
       " ], fitness=0) \n",
       " Total Weight: 24.981956918721746\n",
       " Total Value: 26.21941789056802\n",
       " Range: 5,\n",
       " \n",
       " Chromosome(genes=\n",
       " [Gene(name=Tordilla, weight=0.9446142964548232, max_weight=10, value_per_weight=0.9)\n",
       " ], fitness=0) \n",
       " Total Weight: 0.9446142964548232\n",
       " Total Value: 0.8501528668093409\n",
       " Range: 1,\n",
       " \n",
       " Chromosome(genes=\n",
       " [Gene(name=Chips, weight=0.5043533734802939, max_weight=8, value_per_weight=0.75)\n",
       " , Gene(name=Pastil, weight=0.6977497748327736, max_weight=3, value_per_weight=2.3333333333333335)\n",
       " ], fitness=0) \n",
       " Total Weight: 1.2021031483130673\n",
       " Total Value: 2.006347838053359\n",
       " Range: 2,\n",
       " \n",
       " Chromosome(genes=\n",
       " [Gene(name=Jooj, weight=4.21926085637989, max_weight=7, value_per_weight=2.142857142857143)\n",
       " , Gene(name=Nooshaba, weight=4.556001152917215, max_weight=12, value_per_weight=0.6666666666666666)\n",
       " , Gene(name=Tordilla, weight=6.621801550355916, max_weight=10, value_per_weight=0.9)\n",
       " ], fitness=0) \n",
       " Total Weight: 15.39706355965302\n",
       " Total Value: 18.038228760936327\n",
       " Range: 3,\n",
       " \n",
       " Chromosome(genes=\n",
       " [Gene(name=Choob-Shoor, weight=4.590208506425672, max_weight=13, value_per_weight=0.9230769230769231)\n",
       " , Gene(name=Cookies, weight=3.002742025334115, max_weight=11, value_per_weight=1.0)\n",
       " , Gene(name=Doogh-e-Abali, weight=11.112564924604847, max_weight=15, value_per_weight=0.6666666666666666)\n",
       " , Gene(name=Hot-Dog, weight=17.559283500782385, max_weight=20, value_per_weight=0.75)\n",
       " , Gene(name=Nani, weight=4.029042898698991, max_weight=5, value_per_weight=1.0)\n",
       " ], fitness=0) \n",
       " Total Weight: 40.29384185584601\n",
       " Total Value: 31.846739710416053\n",
       " Range: 5]"
      ]
     },
     "execution_count": 13,
     "metadata": {},
     "output_type": "execute_result"
    }
   ],
   "source": [
    "initial_population"
   ]
  },
  {
   "cell_type": "markdown",
   "id": "ae45e4d6-554a-497f-95fc-fc930e027aa2",
   "metadata": {},
   "source": [
    "# Part three: Implementation and specification of compatibility criterion function"
   ]
  },
  {
   "cell_type": "markdown",
   "id": "dbf00c71-b77b-46a6-a548-b2cbc299293a",
   "metadata": {},
   "source": [
    "## fitness"
   ]
  },
  {
   "cell_type": "code",
   "execution_count": 14,
   "id": "38a19967-3216-430d-8fb6-7e4f23b1c674",
   "metadata": {},
   "outputs": [],
   "source": [
    "def calculate_fitness(chromosome):\n",
    "    fitness = chromosome.total_value\n",
    "    penalty_weight =max_w - chromosome.total_weight\n",
    "    penalty_value = chromosome.total_value - min_v\n",
    "    #penalty_varity = min(chromosome.variety_of_snacks - max_n , min_n - chromosome.variety_of_snacks)\n",
    "    penalties = 0\n",
    "    if penalty_weight < 0:\n",
    "        penalties = penalty_weight \n",
    "    if penalty_value < 0:\n",
    "        penalties = penalties + penalty_value \n",
    "    if penalties < 0 :\n",
    "        fitness = penalties\n",
    "    return fitness\n",
    "    \n"
   ]
  },
  {
   "cell_type": "code",
   "execution_count": 15,
   "id": "52e42a7f-f374-4cf0-839c-922975edbdc2",
   "metadata": {},
   "outputs": [],
   "source": [
    "#Update Chromosomes Fitness'\n",
    "def update_fitness(pop):\n",
    "    for chromosome in pop:\n",
    "        chromosome.fitness = calculate_fitness(chromosome)\n",
    "    return pop\n",
    "    "
   ]
  },
  {
   "cell_type": "code",
   "execution_count": 16,
   "id": "bf0133b2-2911-4c50-ab06-d86bc48901c2",
   "metadata": {},
   "outputs": [],
   "source": [
    "initial_population = update_fitness(initial_population)"
   ]
  },
  {
   "cell_type": "markdown",
   "id": "5320315f-9722-44a3-9d75-552e670ac438",
   "metadata": {},
   "source": [
    "## find winner"
   ]
  },
  {
   "cell_type": "code",
   "execution_count": 17,
   "id": "821bb7ef-06c8-404c-94a3-13c5609bffd9",
   "metadata": {},
   "outputs": [],
   "source": [
    "def find_winner(population):\n",
    "    max_fitness = float('-inf')\n",
    "    winner = population[0];\n",
    "    for chromosome in population:\n",
    "        if (chromosome.fitness > max_fitness):\n",
    "            max_fitness = chromosome.fitness\n",
    "            winner = chromosome\n",
    "    return winner"
   ]
  },
  {
   "cell_type": "code",
   "execution_count": 18,
   "id": "9cf3aa90-f427-44be-830a-952bfdf9f483",
   "metadata": {},
   "outputs": [],
   "source": [
    "def check_for_answer(population):\n",
    "    winner = find_winner(population)\n",
    "    if winner.fitness >= min_v:\n",
    "        return winner\n",
    "    return None"
   ]
  },
  {
   "cell_type": "code",
   "execution_count": 19,
   "id": "4efdf276-bd77-4d43-b53a-df6382823f70",
   "metadata": {},
   "outputs": [],
   "source": [
    "def print_winner(winner):\n",
    "    for Gene in winner.genes:\n",
    "        print(f\"{Gene.name}: {Gene.weight}\")\n",
    "    print(f\"Total Weight: {winner.total_weight}\")\n",
    "    print(f\"Total Value: {winner.total_value}\")"
   ]
  },
  {
   "cell_type": "markdown",
   "id": "ef45381b-a95c-4af1-beed-a585b307c9b0",
   "metadata": {},
   "source": [
    "# Part four: Generating a new generation"
   ]
  },
  {
   "cell_type": "markdown",
   "id": "5013aa48-a48d-49dc-8e1a-02793ee707cf",
   "metadata": {},
   "source": [
    "## Probability:"
   ]
  },
  {
   "cell_type": "code",
   "execution_count": 20,
   "id": "abc87751-c80e-4a9e-a7ca-ff7df747676c",
   "metadata": {},
   "outputs": [],
   "source": [
    "prop_c = 0.3\n",
    "def decide_with_probability(p, thing1, thing2):\n",
    "    if random.random() < p:\n",
    "        return thing1\n",
    "    else:\n",
    "        return thing2"
   ]
  },
  {
   "cell_type": "markdown",
   "id": "232f3b80-2bc9-41fa-8a09-ddf13b200dfe",
   "metadata": {},
   "source": [
    "## Crossover:"
   ]
  },
  {
   "cell_type": "code",
   "execution_count": 21,
   "id": "485a8397-f67e-4bfd-90d9-9aa80071d93e",
   "metadata": {},
   "outputs": [],
   "source": [
    "def crossover(prob , parent1, parent2, min_n, max_n):\n",
    "    x = min(len(parent1.genes), len(parent2.genes)) - 1\n",
    "    if x <= 1:\n",
    "        return [parent1, parent2]\n",
    "    cross_point =  random.randint(1, x)\n",
    "    offspring_genes = parent1.genes + parent2.genes\n",
    "\n",
    "    counter = 0\n",
    "    def remove_dupplicate(objects1, objects2, counter):\n",
    "        def has_duplicate(objects):\n",
    "            seen_names = set()\n",
    "            for obj in objects:\n",
    "                obj_name = obj.name\n",
    "                if obj_name in seen_names:\n",
    "                    return obj\n",
    "                seen_names.add(obj_name)\n",
    "            return None\n",
    "\n",
    "        while True and counter < 10000:\n",
    "            counter = counter + 1\n",
    "            dup1 = has_duplicate(objects1.genes)\n",
    "            dup2 = has_duplicate(objects2.genes)\n",
    "            if dup1 != None:\n",
    "                if dup2 != None:\n",
    "                    index1 = objects1.genes.index(dup1)\n",
    "                    index2 = objects2.genes.index(dup2)\n",
    "                    objects1.genes.pop(index1)\n",
    "                    objects2.genes.pop(index2)\n",
    "                    objects1.genes.append(dup2)\n",
    "                    objects2.genes.append(dup1)\n",
    "                else :\n",
    "                    index1 = objects1.genes.index(dup1)\n",
    "                    objects1.genes.pop(index1)\n",
    "                    new = objects2.genes.pop()\n",
    "                    objects1.genes.append(new)\n",
    "                    objects2.genes.append(dup1)\n",
    "                    \n",
    "            elif dup2 != None:\n",
    "                    index2 = objects2.genes.index(dup2)\n",
    "                    objects2.genes.pop(index2)\n",
    "                    new = objects1.genes.pop()\n",
    "                    objects2.genes.append(new)\n",
    "                    objects1.genes.append(dup2)\n",
    "            else:\n",
    "                    break;\n",
    "        return [objects1, objects2], counter \n",
    "                \n",
    "    offspring1_genes = parent1.genes[:cross_point] + parent2.genes[cross_point:]\n",
    "    offspring2_genes = parent2.genes[:cross_point] + parent1.genes[cross_point:]\n",
    "    \n",
    "    child1 = Chromosome(offspring1_genes, False);\n",
    "    child2 = Chromosome(offspring2_genes, False);\n",
    "\n",
    "    [child1, child2] , counter = remove_dupplicate(child1, child2, counter)\n",
    "    if counter == 10000: \n",
    "        return  [parent1, parent2]\n",
    "    def select_new_generation(prob, child1, child2, parent1, parent2):\n",
    "        if (max_w - child1.total_weight - child2.total_weight > max_w - parent1.total_weight - parent2.total_weight):    \n",
    "            return decide_with_probability(prob,  [parent1, parent2],  [child1, child2])            \n",
    "        return decide_with_probability(prob, [child1, child2], [parent1, parent2])\n",
    "\n",
    "    return select_new_generation(prob, child1, child2, parent1, parent2)\n",
    "    \n",
    "\n",
    "def generate_new_population_crossover(prob, population):\n",
    "    np.random.shuffle(population)\n",
    "    new_population = []\n",
    "    for i  in range(0, round((population_size)/2)):\n",
    "        parent1 = population[i]\n",
    "        parent2 = population[-i]\n",
    "        new_generation = crossover(prob , parent1, parent2, min_n, max_n)\n",
    "        new_population.append(new_generation[0])\n",
    "        new_population.append(new_generation[1])\n",
    "    return new_population\n",
    "\n",
    "\n"
   ]
  },
  {
   "cell_type": "markdown",
   "id": "6be75c6f-f2dc-4a61-b2f2-a2d57474b194",
   "metadata": {},
   "source": [
    "## Mutation:"
   ]
  },
  {
   "cell_type": "code",
   "execution_count": 22,
   "id": "095c3d03-2a31-4172-8661-c8bd5651a144",
   "metadata": {},
   "outputs": [],
   "source": [
    "\n",
    "def mutation(prob_m, population):\n",
    "    np.random.shuffle(population)\n",
    "    new_population = []\n",
    "    for i  in range(0, population_size):\n",
    "        parent = population[i]\n",
    "        genes = []\n",
    "        for g in parent.genes:\n",
    "            genes.append(g)\n",
    "\n",
    "        genes.sort(key=lambda x: x.value_per_weight)\n",
    "\n",
    "        pre_gene = genes.pop(0)\n",
    "\n",
    "        rand_gene = gene_objects\n",
    "        rand_gene.sort(key=lambda x: x.value_per_weight, reverse=True)\n",
    "\n",
    "        new_gene = pre_gene\n",
    "        \n",
    "        for g in rand_gene:\n",
    "            if pre_gene.name == g.name:\n",
    "                break\n",
    "            if any(x.name == g.name for x in genes) == True:\n",
    "                continue\n",
    "            else:\n",
    "                new_gene = g\n",
    "                break\n",
    "        genes.append(new_gene)\n",
    "        if len(genes) == 0:\n",
    "            return population\n",
    "\n",
    "        for g in genes:\n",
    "            if g.name == new_gene.name:\n",
    "                g.weight = g.max_weight\n",
    "                break\n",
    "     \n",
    "        child = Chromosome(genes, False)\n",
    "        #print(f\"parent: {parent}\")\n",
    "        #print (f\"child: {child}\")\n",
    "        #print(\"___________\")\n",
    "\n",
    "        genes.clear()\n",
    "        \n",
    "        new_generation = decide_with_probability(prob_m, parent, child)\n",
    "        new_population.append(new_generation)\n",
    "    return new_population"
   ]
  },
  {
   "cell_type": "markdown",
   "id": "1741d8d9-f9a3-42ad-9554-8adaa7b0a86e",
   "metadata": {},
   "source": [
    "## Algorithm:"
   ]
  },
  {
   "cell_type": "code",
   "execution_count": 23,
   "id": "f029db2e-3144-40fc-80f7-644787efe9ae",
   "metadata": {},
   "outputs": [],
   "source": [
    "def print_details(population, counter, pre_fit, cur_fit):\n",
    "    print(counter)\n",
    "    print(f\"current fitness: {cur_fit},pre fitness: {pre_fit}\")\n",
    "    print (f\"max fitness: {max(c.fitness for c in population)}\")\n",
    "    print(\"______________________________________________________\")"
   ]
  },
  {
   "cell_type": "code",
   "execution_count": 24,
   "id": "e9a4c36d-0da4-42ae-99e6-f5e62ab919c8",
   "metadata": {},
   "outputs": [],
   "source": [
    "def plot_detail(y, title):\n",
    "    x = [i for i in range(0, len(y))]\n",
    "    plt.plot(x, y)\n",
    "    plt.xlabel('# runs')\n",
    "    plt.title(title)\n",
    "    plt.show()\n",
    "\n",
    "def plot_details(val_weight_arr, fitness_arr):\n",
    "    plot_detail(fitness_arr, \"total fitness\")\n",
    "    plot_detail(val_weight_arr, \"Value Per Weight\")\n",
    "    "
   ]
  },
  {
   "cell_type": "code",
   "execution_count": 25,
   "id": "60fe8ea6-51cd-4cf0-919e-a1713080d50f",
   "metadata": {},
   "outputs": [
    {
     "name": "stdout",
     "output_type": "stream",
     "text": [
      "#run = 100\n"
     ]
    },
    {
     "data": {
      "image/png": "[encoded data removed]",
      "text/plain": [
       "<Figure size 640x480 with 1 Axes>"
      ]
     },
     "metadata": {},
     "output_type": "display_data"
    },
    {
     "data": {
      "image/png": "[encoded data removed]",
      "text/plain": [
       "<Figure size 640x480 with 1 Axes>"
      ]
     },
     "metadata": {},
     "output_type": "display_data"
    }
   ],
   "source": [
    "population = initial_population\n",
    "\n",
    "winner = check_for_answer(initial_population)\n",
    "counter = 0\n",
    "cur_fit = sum(c.fitness for c in population)\n",
    "pre_fit = sum(c.fitness for c in population)\n",
    "value_per_weight = sum(c.total_value / c.total_weight for c in population)\n",
    "\n",
    "fitness_arr = []\n",
    "val_weight_arr = []\n",
    "while winner == None and counter < max_run:\n",
    "    #print_details(population, counter, pre_fit, cur_fit)\n",
    "    fitness_arr.append(cur_fit)\n",
    "    val_weight_arr.append(value_per_weight)   \n",
    "    counter = counter + 1\n",
    "    prob_m = min (1 / (counter + 1), 2 /max_run)\n",
    "    pre_fit = cur_fit\n",
    "    new_population = population\n",
    "    new_population = generate_new_population_crossover(prop_c, population)\n",
    "    new_population = mutation(prob_m, new_population)\n",
    "    population = update_fitness(new_population)\n",
    "    cur_fit = sum(c.fitness for c in population)\n",
    "    value_per_weight = sum(c.total_value / c.total_weight for c in population)\n",
    "    winner =check_for_answer(population)\n",
    "    \n",
    "#print_details(population, counter, pre_fit, cur_fit)  \n",
    "print(f\"#run = {counter}\")\n",
    "plot_details(val_weight_arr, fitness_arr)\n",
    "\n"
   ]
  },
  {
   "cell_type": "code",
   "execution_count": 26,
   "id": "2beaacab-dc0f-4788-a2c3-ed3f1e15f842",
   "metadata": {},
   "outputs": [
    {
     "name": "stdout",
     "output_type": "stream",
     "text": [
      "best answer:/n\n",
      "\n",
      "Chromosome Details:\n",
      "Genes:\n",
      "Jooj: Weight=7, Value per Weight=2.142857142857143\n",
      "Pastil: Weight=3, Value per Weight=2.3333333333333335\n",
      "Fitness: -1.0 \n",
      "Total Weight: 10\n",
      "Total Value: 22.0\n",
      "Range: 2\n",
      "\n"
     ]
    }
   ],
   "source": [
    "if winner != None:\n",
    "    print_winner(winner)\n",
    "else: \n",
    "    print(\"best answer:/n\")\n",
    "    print(find_winner(population))"
   ]
  },
  {
   "cell_type": "code",
   "execution_count": 27,
   "id": "f2709e87-c1dd-49ff-b95a-36e4bc72a5ec",
   "metadata": {},
   "outputs": [
    {
     "data": {
      "text/plain": [
       "[\n",
       " Chromosome(genes=\n",
       " [Gene(name=Ghottab, weight=7, max_weight=7, value_per_weight=1.4285714285714286)\n",
       " , Gene(name=Jooj, weight=7, max_weight=7, value_per_weight=2.142857142857143)\n",
       " , Gene(name=Pastil, weight=3, max_weight=3, value_per_weight=2.3333333333333335)\n",
       " ], fitness=-8.0) \n",
       " Total Weight: 17\n",
       " Total Value: 32.0\n",
       " Range: 3,\n",
       " \n",
       " Chromosome(genes=\n",
       " [Gene(name=Ghottab, weight=7, max_weight=7, value_per_weight=1.4285714285714286)\n",
       " , Gene(name=Jooj, weight=7, max_weight=7, value_per_weight=2.142857142857143)\n",
       " , Gene(name=Pastil, weight=3, max_weight=3, value_per_weight=2.3333333333333335)\n",
       " ], fitness=-8.0) \n",
       " Total Weight: 17\n",
       " Total Value: 32.0\n",
       " Range: 3,\n",
       " \n",
       " Chromosome(genes=\n",
       " [Gene(name=Pastil, weight=3, max_weight=3, value_per_weight=2.3333333333333335)\n",
       " ], fitness=-15.0) \n",
       " Total Weight: 3\n",
       " Total Value: 7.0\n",
       " Range: 1,\n",
       " \n",
       " Chromosome(genes=\n",
       " [Gene(name=Ghottab, weight=7, max_weight=7, value_per_weight=1.4285714285714286)\n",
       " , Gene(name=Jooj, weight=7, max_weight=7, value_per_weight=2.142857142857143)\n",
       " , Gene(name=Pastil, weight=3, max_weight=3, value_per_weight=2.3333333333333335)\n",
       " ], fitness=-8.0) \n",
       " Total Weight: 17\n",
       " Total Value: 32.0\n",
       " Range: 3,\n",
       " \n",
       " Chromosome(genes=\n",
       " [Gene(name=Pastil, weight=3, max_weight=3, value_per_weight=2.3333333333333335)\n",
       " ], fitness=-15.0) \n",
       " Total Weight: 3\n",
       " Total Value: 7.0\n",
       " Range: 1,\n",
       " \n",
       " Chromosome(genes=\n",
       " [Gene(name=Pastil, weight=3, max_weight=3, value_per_weight=2.3333333333333335)\n",
       " ], fitness=-15.0) \n",
       " Total Weight: 3\n",
       " Total Value: 7.0\n",
       " Range: 1,\n",
       " \n",
       " Chromosome(genes=\n",
       " [Gene(name=Pastil, weight=3, max_weight=3, value_per_weight=2.3333333333333335)\n",
       " ], fitness=-15.0) \n",
       " Total Weight: 3\n",
       " Total Value: 7.0\n",
       " Range: 1,\n",
       " \n",
       " Chromosome(genes=\n",
       " [Gene(name=Pastil, weight=3, max_weight=3, value_per_weight=2.3333333333333335)\n",
       " ], fitness=-15.0) \n",
       " Total Weight: 3\n",
       " Total Value: 7.0\n",
       " Range: 1,\n",
       " \n",
       " Chromosome(genes=\n",
       " [Gene(name=Ghottab, weight=7, max_weight=7, value_per_weight=1.4285714285714286)\n",
       " , Gene(name=Jooj, weight=7, max_weight=7, value_per_weight=2.142857142857143)\n",
       " , Gene(name=Pastil, weight=3, max_weight=3, value_per_weight=2.3333333333333335)\n",
       " ], fitness=-8.0) \n",
       " Total Weight: 17\n",
       " Total Value: 32.0\n",
       " Range: 3,\n",
       " \n",
       " Chromosome(genes=\n",
       " [Gene(name=Jooj, weight=7, max_weight=7, value_per_weight=2.142857142857143)\n",
       " , Gene(name=Pastil, weight=3, max_weight=3, value_per_weight=2.3333333333333335)\n",
       " ], fitness=-1.0) \n",
       " Total Weight: 10\n",
       " Total Value: 22.0\n",
       " Range: 2,\n",
       " \n",
       " Chromosome(genes=\n",
       " [Gene(name=Ghottab, weight=7, max_weight=7, value_per_weight=1.4285714285714286)\n",
       " , Gene(name=Jooj, weight=7, max_weight=7, value_per_weight=2.142857142857143)\n",
       " , Gene(name=Pastil, weight=3, max_weight=3, value_per_weight=2.3333333333333335)\n",
       " ], fitness=-8.0) \n",
       " Total Weight: 17\n",
       " Total Value: 32.0\n",
       " Range: 3,\n",
       " \n",
       " Chromosome(genes=\n",
       " [Gene(name=Pastil, weight=3, max_weight=3, value_per_weight=2.3333333333333335)\n",
       " ], fitness=-15.0) \n",
       " Total Weight: 3\n",
       " Total Value: 7.0\n",
       " Range: 1,\n",
       " \n",
       " Chromosome(genes=\n",
       " [Gene(name=Pastil, weight=3, max_weight=3, value_per_weight=2.3333333333333335)\n",
       " ], fitness=-15.0) \n",
       " Total Weight: 3\n",
       " Total Value: 7.0\n",
       " Range: 1,\n",
       " \n",
       " Chromosome(genes=\n",
       " [Gene(name=Ghottab, weight=7, max_weight=7, value_per_weight=1.4285714285714286)\n",
       " , Gene(name=Jooj, weight=7, max_weight=7, value_per_weight=2.142857142857143)\n",
       " , Gene(name=Pastil, weight=3, max_weight=3, value_per_weight=2.3333333333333335)\n",
       " ], fitness=-8.0) \n",
       " Total Weight: 17\n",
       " Total Value: 32.0\n",
       " Range: 3,\n",
       " \n",
       " Chromosome(genes=\n",
       " [Gene(name=Ghottab, weight=7, max_weight=7, value_per_weight=1.4285714285714286)\n",
       " , Gene(name=Jooj, weight=7, max_weight=7, value_per_weight=2.142857142857143)\n",
       " , Gene(name=Pastil, weight=3, max_weight=3, value_per_weight=2.3333333333333335)\n",
       " ], fitness=-8.0) \n",
       " Total Weight: 17\n",
       " Total Value: 32.0\n",
       " Range: 3,\n",
       " \n",
       " Chromosome(genes=\n",
       " [Gene(name=Pastil, weight=3, max_weight=3, value_per_weight=2.3333333333333335)\n",
       " ], fitness=-15.0) \n",
       " Total Weight: 3\n",
       " Total Value: 7.0\n",
       " Range: 1,\n",
       " \n",
       " Chromosome(genes=\n",
       " [Gene(name=Pastil, weight=3, max_weight=3, value_per_weight=2.3333333333333335)\n",
       " ], fitness=-15.0) \n",
       " Total Weight: 3\n",
       " Total Value: 7.0\n",
       " Range: 1,\n",
       " \n",
       " Chromosome(genes=\n",
       " [Gene(name=Ghottab, weight=7, max_weight=7, value_per_weight=1.4285714285714286)\n",
       " , Gene(name=Jooj, weight=7, max_weight=7, value_per_weight=2.142857142857143)\n",
       " , Gene(name=Pastil, weight=3, max_weight=3, value_per_weight=2.3333333333333335)\n",
       " ], fitness=-8.0) \n",
       " Total Weight: 17\n",
       " Total Value: 32.0\n",
       " Range: 3,\n",
       " \n",
       " Chromosome(genes=\n",
       " [Gene(name=Pastil, weight=3, max_weight=3, value_per_weight=2.3333333333333335)\n",
       " ], fitness=-15.0) \n",
       " Total Weight: 3\n",
       " Total Value: 7.0\n",
       " Range: 1,\n",
       " \n",
       " Chromosome(genes=\n",
       " [Gene(name=Jooj, weight=7, max_weight=7, value_per_weight=2.142857142857143)\n",
       " , Gene(name=Pastil, weight=3, max_weight=3, value_per_weight=2.3333333333333335)\n",
       " ], fitness=-1.0) \n",
       " Total Weight: 10\n",
       " Total Value: 22.0\n",
       " Range: 2]"
      ]
     },
     "execution_count": 27,
     "metadata": {},
     "output_type": "execute_result"
    }
   ],
   "source": [
    "population\n"
   ]
  },
  {
   "cell_type": "code",
   "execution_count": null,
   "id": "4505b533-07cb-42cc-902a-e1c0fee8cce0",
   "metadata": {},
   "outputs": [],
   "source": []
  },
  {
   "cell_type": "code",
   "execution_count": null,
   "id": "cd0b72ef-b2cb-4934-ba43-561481bc107d",
   "metadata": {},
   "outputs": [],
   "source": []
  }
 ],
 "metadata": {
  "kernelspec": {
   "display_name": "Python 3 (ipykernel)",
   "language": "python",
   "name": "python3"
  },
  "language_info": {
   "codemirror_mode": {
    "name": "ipython",
    "version": 3
   },
   "file_extension": ".py",
   "mimetype": "text/x-python",
   "name": "python",
   "nbconvert_exporter": "python",
   "pygments_lexer": "ipython3",
   "version": "3.12.2"
  }
 },
 "nbformat": 4,
 "nbformat_minor": 5
}
